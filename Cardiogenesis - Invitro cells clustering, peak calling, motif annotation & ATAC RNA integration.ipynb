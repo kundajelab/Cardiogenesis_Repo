{
 "cells": [
  {
   "cell_type": "code",
   "execution_count": null,
   "metadata": {
    "scrolled": true
   },
   "outputs": [],
   "source": [
    "library(BiocManager)\n",
    "library(BSgenome.Hsapiens.UCSC.hg38)\n",
    "library(ArchR)\n",
    "library(ggplot2)\n",
    "library(TFBSTools)\n",
    "library(Seurat)\n",
    "library(ggplot2)\n",
    "library(dplyr)\n",
    "library(harmony)\n",
    "library(BSgenome.Hsapiens.UCSC.hg38)\n",
    "library(JASPAR2018)\n",
    "library(edgeR)\n",
    "data(\"geneAnnoHg38\")\n",
    "data(\"genomeAnnoHg38\")\n",
    "geneAnno <- geneAnnoHg38\n",
    "genomeAnno <- genomeAnnoHg38\n",
    "addArchRThreads(22)\n"
   ]
  },
  {
   "cell_type": "code",
   "execution_count": null,
   "metadata": {},
   "outputs": [],
   "source": [
    "pathFragments <- \"path to the fragment files \"\n",
    "inputFiles <- list.files(pathFragments, pattern = \".gz$\", full.names = TRUE)\n",
    "names(inputFiles) <- gsub(\".fragments.tsv.gz\", \"\", list.files(pathFragments, pattern = \".gz$\"))"
   ]
  },
  {
   "cell_type": "code",
   "execution_count": null,
   "metadata": {},
   "outputs": [],
   "source": [
    "ArrowFiles <- createArrowFiles(\n",
    "  inputFiles = inputFiles,\n",
    "  filterTSS = 6,\n",
    "  filterFrags = 1500, \n",
    "  sampleNames = names(inputFiles),\n",
    "  geneAnnotation = geneAnno,\n",
    "  genomeAnnotation = genomeAnno,\n",
    "  force = TRUE\n",
    ")"
   ]
  },
  {
   "cell_type": "code",
   "execution_count": null,
   "metadata": {
    "scrolled": true
   },
   "outputs": [],
   "source": [
    "proj_1<- ArchRProject(\n",
    "  ArrowFiles = ArrowFiles, \n",
    "  geneAnnotation = geneAnno,\n",
    "  genomeAnnotation = genomeAnno,\n",
    "  outputDirectory = \"path to archr project\"\n",
    ")\n",
    "\n",
    "proj_1"
   ]
  },
  {
   "cell_type": "code",
   "execution_count": null,
   "metadata": {},
   "outputs": [],
   "source": [
    "proj <- filterDoublets(proj_1)"
   ]
  },
  {
   "cell_type": "code",
   "execution_count": null,
   "metadata": {
    "scrolled": true
   },
   "outputs": [],
   "source": [
    "proj <- addIterativeLSI(\n",
    "  ArchRProj = proj, \n",
    "  useMatrix = \"TileMatrix\",iterations = 4,force=TRUE\n",
    ")\n",
    "\n",
    "\n",
    "proj <- addUMAP(\n",
    "  ArchRProj = proj, \n",
    "  reducedDims = \"IterativeLSI\",force=TRUE\n",
    ")\n"
   ]
  },
  {
   "cell_type": "code",
   "execution_count": null,
   "metadata": {},
   "outputs": [],
   "source": [
    "proj <- addClusters(input = proj, reducedDims = \"IterativeLSI\", resolution = 1.5,force=TRUE)"
   ]
  },
  {
   "cell_type": "code",
   "execution_count": null,
   "metadata": {},
   "outputs": [],
   "source": [
    "plotList <- list()\n",
    "plotList[[1]] <- plotEmbedding(ArchRProj = proj, colorBy = \"colData\", name = \"Sample\")\n",
    "plotList[[2]] <- plotEmbedding(ArchRProj = proj, colorBy = \"colData\", name = \"Clusters\", plotParams = list(labelMeans=TRUE))\n",
    "plotPDF(plotList = plotList, name = \"UMAP-Samples-Clusters\", width = 6, height = 6, ArchRProj = proj, addDOC = FALSE)\n",
    "plotList\n",
    "\n"
   ]
  },
  {
   "cell_type": "code",
   "execution_count": null,
   "metadata": {},
   "outputs": [],
   "source": [
    "req_names <- read.csv('/illumina/scratch/deep_learning/lsundaram/single_cell_datasets/cardiomyogenesis/differentiation_names.csv')\n",
    "req_names1<-req_names$X\n",
    "proj<-subsetCells(ArchRProj=proj,cellNames=req_names1)"
   ]
  },
  {
   "cell_type": "code",
   "execution_count": null,
   "metadata": {
    "scrolled": true
   },
   "outputs": [],
   "source": [
    "coldata<-getCellColData(proj)# Annotation of clusters \n",
    "head(coldata)\n",
    "\n",
    "\n",
    "#\n",
    "coldata[coldata$Clusters=='C9','Clusters1']='A_iPS'\n",
    "coldata[coldata$Clusters=='C10','Clusters1']='B_Non Differentiated Cells'\n",
    "coldata[coldata$Clusters=='C12','Clusters1']='C_Cardiac Mesoderm'\n",
    "coldata[coldata$Clusters=='C14','Clusters1']='D_Cardiac Progenitor'\n",
    "coldata[coldata$Clusters=='C13','Clusters1']='E_Non Differentiated Cells'\n",
    "#\n",
    "coldata[coldata$Clusters=='C11','Clusters1']='F_Endoderm'\n",
    "coldata[coldata$Clusters=='C3','Clusters1']='F_Immature Cardiac Fibroblast'\n",
    "coldata[coldata$Clusters=='C16','Clusters1']='G_Primitive Cardiomyocytes'\n",
    "coldata[coldata$Clusters=='C15','Clusters1']='H_Mature Cardiomyocytes'\n",
    "coldata[coldata$Clusters=='C1','Clusters1']='I_Endocardium/Capillaries'\n",
    "coldata[coldata$Clusters=='C2','Clusters1']='I_Endocardium/Capillaries'\n",
    "#\n",
    "coldata[coldata$Clusters=='C6','Clusters1']='J_Epicardium'\n",
    "coldata[coldata$Clusters=='C4','Clusters1']='J_Epicardium'\n",
    "coldata[coldata$Clusters=='C5','Clusters1']='L_SMC'\n",
    "coldata[coldata$Clusters=='C8','Clusters1']='L_SMC'\n",
    "coldata[coldata$Clusters=='C7','Clusters1']='M_Cardiac Fiborblast'\n",
    "coldata[(coldata$Sample=='H5_v2') & (coldata$Clusters=='C13') ,'Clusters1']='H_Mature Cardiomyocytes'\n",
    "\n",
    "proj$Clusters1<-coldata$Clusters1\n"
   ]
  },
  {
   "cell_type": "code",
   "execution_count": null,
   "metadata": {
    "scrolled": false
   },
   "outputs": [],
   "source": [
    "#paletteDiscrete\n",
    "#paletteDiscrete(values = factor, set = \"bear\", reverse = FALSE)\n",
    "plotList <- list()\n",
    "#plotEmbedding(ArchRProj = proj, colorBy = \"colData\",name = \"Sample\")\n",
    "plotList[[1]] <-plotEmbedding(ArchRProj = proj,pal=c(\"H5_v2\"=\"#E22929\",\"H4\"=\"#FCB31A\",\"EC_v2\"=\"#FF8B74\",\n",
    "                                    \"EPC_v2\"=\"#60824F\",\"SMC_v2\"=\"#00CC00\",\"CF_v2\"=\"#00A08A\",\"H3_v2\"=\"#FBDF72\",\n",
    "                                    \"H2_v2\"=\"#5BB1CB\",\"H1_v2\"=\"#084081\"),colorBy = \"colData\",name = \"Sample\")\n",
    "plotList[[2]] <-plotEmbedding(ArchRProj = proj,pal=c(\"H5_v2\"=\"#E22929\",\"H4\"=\"#FCB31A\",\"EC_v2\"=\"#FF8B74\",\n",
    "                                    \"EPC_v2\"=\"#60824F\",\"SMC_v2\"=\"#00CC00\",\"CF_v2\"=\"#00A08A\",\"H3_v2\"=\"#FBDF72\",\n",
    "                                    \"H2_v2\"=\"#5BB1CB\",\"H1_v2\"=\"#084081\"),colorBy = \"colData\",name = \"Sample\", labelMeans=FALSE)\n",
    "\n",
    "plotList[[3]] <- plotEmbedding(ArchRProj = proj, pal=c(\"I_Endocardium/Capillaries\"=\"#E6C2DC\",\"I_Endocardium/Capillaries\"=\"#FF8B74\"\n",
    "                                                       ,\"F_Immature Cardiac Fibroblast\"=\"#581845\",\"K_immature Epicardium\"=\"#A2E700\",\n",
    "                                     \"L_SMC\"=\"#00CC00\",\"J_Epicardium\"=\"#60824F\",\"M_Cardiac Fiborblast\"=\"#00A08A\",\"L_SMC\"=\"#BED678\",\"A_iPS\"=\"#084081\",\n",
    "                                     \"B_Non Differentiated Cells\"=\"#5BB1CB\",\"F_Endoderm\"=\"#B15928\",\n",
    "                                     \"C_Cardiac Mesoderm\"=\"#9CDFF0\",\"E_Non Differentiated Cells\"=\"#E1AF00\",\n",
    "                                     \"D_Cardiac Progenitor\"=\"#FBDF72\",\"H_Mature Cardiomyocytes\"=\"#E22929\",\"G_Primitive Cardiomyocytes\"=\"#FCB31A\"),colorBy = \"colData\", name = \"Clusters1\", labelMeans=TRUE)\n",
    "plotList[[4]] <- plotEmbedding(ArchRProj = proj, pal=c(\"I_Endocardium/Capillaries\"=\"#E6C2DC\",\"I_Endocardium/Capillaries\"=\"#FF8B74\"\n",
    "                                                       ,\"F_Immature Cardiac Fibroblast\"=\"#581845\",\"K_immature Epicardium\"=\"#A2E700\",\n",
    "                                     \"L_SMC\"=\"#00CC00\",\"J_Epicardium\"=\"#60824F\",\"M_Cardiac Fiborblast\"=\"#00A08A\",\"L_SMC\"=\"#BED678\",\"A_iPS\"=\"#084081\",\n",
    "                                     \"B_Non Differentiated Cells\"=\"#5BB1CB\",\"F_Endoderm\"=\"#B15928\",\n",
    "                                     \"C_Cardiac Mesoderm\"=\"#9CDFF0\",\"E_Non Differentiated Cells\"=\"#E1AF00\",\n",
    "                                     \"D_Cardiac Progenitor\"=\"#FBDF72\",\"H_Mature Cardiomyocytes\"=\"#E22929\",\"G_Primitive Cardiomyocytes\"=\"#FCB31A\"),colorBy = \"colData\", name = \"Clusters1\", labelMeans=FALSE)\n",
    "\n",
    "#plotEmbedding(ArchRProj = proj, pal=ArchRPalettes$bear,colorBy = \"colData\",name = \"Sample\")\n",
    "plotPDF(plotList = plotList, name = \"UMAP-Samples-Clusters\", width = 6, height = 6, ArchRProj = proj, addDOC = FALSE)\n",
    "plotList"
   ]
  },
  {
   "cell_type": "code",
   "execution_count": null,
   "metadata": {
    "scrolled": true
   },
   "outputs": [],
   "source": [
    "#plotting gene scores on umap\n",
    "proj <- addImputeWeights(ArchRProj = proj)\n",
    "\n",
    "markerGenes  <- c(\"POU5F1\",\"NANOG\",\"MESP1\",\"MESP2\",\"ISL1\",\"TBX5\",\"TNNT2\",\"TTN\",\"MYL2\",\"HAND1\",\"HAND2\",\"PECAM1\",\"CD34\",\"CDH5\",\"TCF21\",\n",
    "    \"NOTCH1\",\"NOTCH4\",\"DCN\",\"COL1A1\",\"LUM\",\"MYH11\",\"SOX17\",\"FOXA1\",\"TAGLN\", \"PDGFRB\", \"MYH6\", \"MYH7\", \"MYL7\"\n",
    "  )\n",
    "\n",
    "\n",
    "#Plot the UMAP Embedding with Marker Genes Overlayed w/ Imputation\n",
    "plotList <- list()\n",
    "plotList[[1]] <- plotEmbedding(ArchRProj = proj, colorBy = \"GeneScoreMatrix\", name = markerGenes, imputeWeights = getImputeWeights(proj))\n",
    "plotPDF(plotList = plotList, name = \"UMAP-Marker-Gene-Scores-w-Imputation\", width = 6, height = 6, ArchRProj = proj, addDOC = FALSE)\n",
    "\n",
    "#Plot the UMAP Embedding with Marker Genes Overlayed w/o Imputation\n",
    "plotList <- list()\n",
    "plotList[[1]] <- plotEmbedding(ArchRProj = proj, colorBy = \"GeneScoreMatrix\", name = markerGenes, imputeWeights = getImputeWeights(proj))\n",
    "plotPDF(plotList = plotList, name = \"UMAP-Marker-Gene-integration-w-Imputation\", width = 6, height = 6, ArchRProj = proj, addDOC = FALSE)\n",
    "plotList"
   ]
  },
  {
   "cell_type": "code",
   "execution_count": null,
   "metadata": {
    "scrolled": true
   },
   "outputs": [],
   "source": [
    "#getting reproducible peak \n",
    "proj <- addGroupCoverages(ArchRProj = proj, groupBy = \"Clusters1\",force=TRUE)\n",
    "#Call Reproducible Peaks w/ Macs2 (~5-10 minutes)\n",
    "proj <- addReproduciblePeakSet(ArchRProj = proj,groupBy = \"Clusters1\",force=TRUE)\n",
    "#Add Peak Matrix\n",
    "proj <- addPeakMatrix(ArchRProj = proj)\n",
    "\n"
   ]
  },
  {
   "cell_type": "code",
   "execution_count": null,
   "metadata": {},
   "outputs": [],
   "source": [
    "#Identify Marker Peaks\n",
    "markersPeaks <- markerFeatures(ArchRProj = proj, useMatrix = \"PeakMatrix\", groupBy = \"Clusters1\")\n",
    "\n",
    "#Visualize Markers as a heatmap\n",
    "heatmapPeaks <- markerHeatmap(\n",
    "  seMarker = markersPeaks, \n",
    "  cutOff = \"FDR <= 0.1 & Log2FC >= 1\",\n",
    "  pal = paletteContinuous(set = \"blueYellow\")\n",
    ")\n",
    "plotPDF(heatmapPeaks, name = \"Peak-Marker-Heatmap\", width = 8, height = 12, ArchRProj = proj, addDOC = FALSE)"
   ]
  },
  {
   "cell_type": "code",
   "execution_count": null,
   "metadata": {},
   "outputs": [],
   "source": [
    "#addMotifAnnotations\n",
    "proj <- addMotifAnnotations(ArchRProj = proj, motifSet = \"cisbp\", name = \"Motif\", force = TRUE)\n",
    "\n",
    "\n",
    "#Identify Motif Enrichments\n",
    "enrichMotifs <- peakAnnoEnrichment(\n",
    "    seMarker = markersPeaks,\n",
    "    ArchRProj = proj,\n",
    "    peakAnnotation = \"Motif\",\n",
    "    cutOff = \"FDR <= 0.1 & Log2FC >= 0.5\"\n",
    "  )\n",
    "heatmapEM <- enrichHeatmap(enrichMotifs,pal = paletteContinuous(set = \"solarExtra\", n = 100))\n",
    "plotPDF(heatmapEM, name = \"Motifs-Enrich-Heatmap\", width = 8, height = 10, ArchRProj = proj, addDOC = FALSE)\n"
   ]
  },
  {
   "cell_type": "code",
   "execution_count": null,
   "metadata": {},
   "outputs": [],
   "source": [
    "#Adding deviations\n",
    "proj <- addBgdPeaks(proj,force = TRUE)\n",
    "#Add chromVAR Deviations (~20-25 min if using CisBP Motif Set)\n",
    "proj <- addDeviationsMatrix(ArchRProj = proj, peakAnnotation = \"Motif\",threads=15,force = TRUE)"
   ]
  },
  {
   "cell_type": "code",
   "execution_count": null,
   "metadata": {},
   "outputs": [],
   "source": [
    "gene_integration_matrix<-readRDS('load cleaned friedman rna seurat rds')\n",
    "gene_integration_matrix\n"
   ]
  },
  {
   "cell_type": "code",
   "execution_count": null,
   "metadata": {},
   "outputs": [],
   "source": [
    "umap_rna<-Embeddings(object = gene_integration_matrix, reduction = \"umap\")\n",
    "Idents(gene_integration_matrix) <- \"seurat_clusters\"\n"
   ]
  },
  {
   "cell_type": "code",
   "execution_count": null,
   "metadata": {},
   "outputs": [],
   "source": [
    "gene_integration_matrix@meta.data[gene_integration_matrix@meta.data$batch==0,'batch_name']='iPSC'\n",
    "gene_integration_matrix@meta.data[gene_integration_matrix@meta.data$batch==1,'batch_name']='Cardiac Mesoderm'\n",
    "gene_integration_matrix@meta.data[gene_integration_matrix@meta.data$batch==2,'batch_name']='Cardiac Progenitors'\n",
    "gene_integration_matrix@meta.data[gene_integration_matrix@meta.data$batch==3,'batch_name']='Maturing Cardiomyocytes'\n",
    "gene_integration_matrix@meta.data[gene_integration_matrix@meta.data$batch==4,'batch_name']='Mature Cardiomyocytes'"
   ]
  },
  {
   "cell_type": "code",
   "execution_count": null,
   "metadata": {
    "scrolled": true
   },
   "outputs": [],
   "source": [
    "\n",
    "proj <- addGeneIntegrationMatrix(\n",
    "    ArchRProj = proj, \n",
    "    useMatrix = \"GeneScoreMatrix\",\n",
    "    matrixName = \"GeneIntegrationMatrix\",\n",
    "    reducedDims = \"IterativeLSI\",\n",
    "    seRNA = gene_integration_matrix,\n",
    "    addToArrow = TRUE,\n",
    "    sampleCellsATAC = 70000,\n",
    "    sampleCellsRNA = 70000,\n",
    "    groupATAC=\"Clusters1\",\n",
    "    groupRNA = \"seurat_clusters\",\n",
    "    nameCell = \"predictedCell_Un\",\n",
    "    nameGroup = \"predictedGroup_Un\",\n",
    "    nameScore = \"predictedScore_Un\",\n",
    "    force = TRUE\n",
    ")"
   ]
  },
  {
   "cell_type": "code",
   "execution_count": null,
   "metadata": {},
   "outputs": [],
   "source": []
  },
  {
   "cell_type": "code",
   "execution_count": null,
   "metadata": {},
   "outputs": [],
   "source": []
  },
  {
   "cell_type": "code",
   "execution_count": null,
   "metadata": {},
   "outputs": [],
   "source": []
  },
  {
   "cell_type": "code",
   "execution_count": null,
   "metadata": {
    "scrolled": true
   },
   "outputs": [],
   "source": []
  },
  {
   "cell_type": "code",
   "execution_count": null,
   "metadata": {},
   "outputs": [],
   "source": []
  }
 ],
 "metadata": {
  "kernelspec": {
   "display_name": "R",
   "language": "R",
   "name": "ir"
  },
  "language_info": {
   "codemirror_mode": "r",
   "file_extension": ".r",
   "mimetype": "text/x-r-source",
   "name": "R",
   "pygments_lexer": "r",
   "version": "4.0.3"
  }
 },
 "nbformat": 4,
 "nbformat_minor": 2
}
