{
 "cells": [
  {
   "cell_type": "code",
   "execution_count": null,
   "metadata": {},
   "outputs": [],
   "source": [
    "import h5py\n",
    "import pandas as pd \n",
    "import scanpy as sc\n",
    "import anndata\n",
    "import ipywidgets as widgets\n",
    "import numpy as np\n",
    "import wot\n",
    "import matplotlib.pyplot as plt"
   ]
  },
  {
   "cell_type": "code",
   "execution_count": null,
   "metadata": {},
   "outputs": [],
   "source": [
    "#in geo\n",
    "adata=sc.read_loom(\"Genescore_foropt_fetalheart1.loom\")\n",
    "#"
   ]
  },
  {
   "cell_type": "code",
   "execution_count": null,
   "metadata": {
    "scrolled": true
   },
   "outputs": [],
   "source": [
    "adata_cell_details=pd.read_csv('Cell_details.csv')\n",
    "adata_cell_details.index=adata_cell_details['index']\n"
   ]
  },
  {
   "cell_type": "code",
   "execution_count": null,
   "metadata": {},
   "outputs": [],
   "source": [
    "adata.obs['Clusters1']=adata_cell_details['Clusters1']\n",
    "adata.obs['index']=adata_cell_details['index']"
   ]
  },
  {
   "cell_type": "code",
   "execution_count": null,
   "metadata": {},
   "outputs": [],
   "source": [
    "adata.obs['Day']=adata.obs['orig_ident']\n",
    "adata.obs['Day']=adata.obs['Day'].str.replace('F19','3')\n",
    "adata.obs['Day']=adata.obs['Day'].str.replace('F8','2')\n",
    "adata.obs['Day']=adata.obs['Day'].str.replace('F6','1')\n",
    "adata.obs['Day']=adata.obs['Day'].astype(int)\n"
   ]
  },
  {
   "cell_type": "code",
   "execution_count": null,
   "metadata": {},
   "outputs": [],
   "source": [
    "coord_df=pd.read_csv('coords_df.csv')\n",
    "coord_df.columns=['index','x','y']\n",
    "coord_df.index=coord_df['index']                       \n",
    "del coord_df['index']\n"
   ]
  },
  {
   "cell_type": "code",
   "execution_count": null,
   "metadata": {},
   "outputs": [],
   "source": [
    "for_optimal_transport_obs=pd.read_csv('adata_obs_for_peaks.csv')\n",
    "for_optimal_transport_obs.index=for_optimal_transport_obs['index']\n"
   ]
  },
  {
   "cell_type": "code",
   "execution_count": null,
   "metadata": {},
   "outputs": [],
   "source": [
    "adata.obs['cell_growth_rate']=for_optimal_transport_obs['cell_growth_rate']\n",
    "adata.obs['day']=for_optimal_transport_obs['day']\n"
   ]
  },
  {
   "cell_type": "code",
   "execution_count": null,
   "metadata": {},
   "outputs": [],
   "source": [
    "days_df=pd.DataFrame(adata.obs['Day'])"
   ]
  },
  {
   "cell_type": "code",
   "execution_count": null,
   "metadata": {},
   "outputs": [],
   "source": [
    "unique_days = adata.obs['Day'].unique()"
   ]
  },
  {
   "cell_type": "code",
   "execution_count": null,
   "metadata": {},
   "outputs": [],
   "source": [
    "adata_variable=adata[:,adata.var[adata.var['Selected']==1].index]\n"
   ]
  },
  {
   "cell_type": "code",
   "execution_count": null,
   "metadata": {},
   "outputs": [],
   "source": [
    "ot_model = wot.ot.OTModel(adata_variable, epsilon = 0.05, lambda1 = 1, lambda2 = 50, growth_iters = 3) \n"
   ]
  },
  {
   "cell_type": "code",
   "execution_count": null,
   "metadata": {},
   "outputs": [],
   "source": [
    "ot_model.compute_all_transport_maps(tmap_out='tmaps/GeneScore_OT')\n"
   ]
  },
  {
   "cell_type": "code",
   "execution_count": null,
   "metadata": {},
   "outputs": [],
   "source": [
    "tmap_model = wot.tmap.TransportMapModel.from_directory('tmaps/GeneScore_OT')\n"
   ]
  },
  {
   "cell_type": "code",
   "execution_count": null,
   "metadata": {},
   "outputs": [],
   "source": [
    "cell_sets_path='major_cell_set.gmt'\n",
    "cell_sets = wot.io.read_sets(cell_sets_path, as_dict=True)\n"
   ]
  },
  {
   "cell_type": "code",
   "execution_count": null,
   "metadata": {
    "scrolled": true
   },
   "outputs": [],
   "source": [
    "start_populations = tmap_model.population_from_cell_sets(cell_sets, at_time=1)\n",
    "end_populations = tmap_model.population_from_cell_sets(cell_sets, at_time=3)\n",
    "transition_table = tmap_model.transition_table(start_populations, end_populations)\n",
    "#\n",
    "trans_tab_df=pd.DataFrame(transition_table.X)\n",
    "trans_tab_df=trans_tab_df.round(2)\n",
    "trans_tab_df.columns=transition_table.var_names\n",
    "trans_tab_df.index=transition_table.obs_names\n",
    "trans_tab_df=trans_tab_df.drop('Other')\n",
    "#\n",
    "#print(trans_tab_df.tail())"
   ]
  },
  {
   "cell_type": "code",
   "execution_count": null,
   "metadata": {
    "scrolled": true
   },
   "outputs": [],
   "source": [
    "start_populations = tmap_model.population_from_cell_sets(cell_sets, at_time=1)\n",
    "end_populations = tmap_model.population_from_cell_sets(cell_sets, at_time=2)\n",
    "transition_table = tmap_model.transition_table(start_populations, end_populations)\n",
    "trans_tab_df1=pd.DataFrame(transition_table.X)\n",
    "trans_tab_df1=trans_tab_df1.round(2)\n",
    "trans_tab_df1.columns=transition_table.var_names\n",
    "trans_tab_df1.index=transition_table.obs_names\n",
    "trans_tab_df1=trans_tab_df1.drop('Other')\n"
   ]
  },
  {
   "cell_type": "code",
   "execution_count": null,
   "metadata": {
    "scrolled": true
   },
   "outputs": [],
   "source": [
    "start_populations = tmap_model.population_from_cell_sets(cell_sets, at_time=2)\n",
    "end_populations = tmap_model.population_from_cell_sets(cell_sets, at_time=3)\n",
    "transition_table = tmap_model.transition_table(start_populations, end_populations)\n",
    "\n",
    "trans_tab_df2=pd.DataFrame(transition_table.X)\n",
    "trans_tab_df2=trans_tab_df2.round(2)\n",
    "trans_tab_df2.columns=transition_table.var_names\n",
    "trans_tab_df2.index=transition_table.obs_names\n"
   ]
  },
  {
   "cell_type": "code",
   "execution_count": null,
   "metadata": {},
   "outputs": [],
   "source": [
    "ttable=trans_tab_df+trans_tab_df1+trans_tab_df2\n",
    "ttable[ttable <= 0.01] = 0"
   ]
  },
  {
   "cell_type": "code",
   "execution_count": null,
   "metadata": {},
   "outputs": [],
   "source": [
    "import seaborn\n",
    "import matplotlib\n",
    "matplotlib.rcParams['pdf.fonttype']=42\n",
    "plt.rcParams[\"figure.figsize\"]=10,10\n",
    "plt.rcParams['axes.xmargin'] = 0\n",
    "\n",
    "font = {'family' : 'normal',\n",
    "        'weight' : 'normal',\n",
    "        'size'   : 6}\n",
    "\n",
    "matplotlib.rc('font', **font)\n",
    "a=seaborn.heatmap(ttable.loc[['Endocaridum', 'Capillary_endothelium', 'Arterial_endothelium',\n",
    "       'Myocardium', 'Ventricular_Cardiomyocytes','Atrial_Cardiomyocytes', 'Early_OFT_SMC', 'Vasculatur_development','vSMC','Pericytes',\n",
    "       'Cardiac_fibroblast_progenitors', 'Early_Cardiac_fibroblast',\n",
    "       'Cardiac_Fibroblast', 'Endocardial_cushion'],\n",
    "        [ 'Endocaridum', 'Capillary_endothelium', 'Arterial_endothelium','Venal_endothelium','Endocaridum_unidentifed',\n",
    "        'Ventricular_Cardiomyocytes','Atrial_Cardiomyocytes', 'Vasculatur_development','vSMC','Pericytes',\n",
    "        'Early_Cardiac_fibroblast',\n",
    "       'Cardiac_Fibroblast','Endocardial_cushion_late','Neural_Crest','Undifferentiated_epicardium']],cmap=\"hot_r\", linewidths=0.01, linecolor='black')\n",
    "plt.grid(False)\n",
    "plt.ylabel('Parent Cell type')\n",
    "plt.xlabel('Child Cell type')\n",
    "plt.show()"
   ]
  },
  {
   "cell_type": "code",
   "execution_count": null,
   "metadata": {},
   "outputs": [],
   "source": []
  },
  {
   "cell_type": "code",
   "execution_count": null,
   "metadata": {},
   "outputs": [],
   "source": []
  },
  {
   "cell_type": "code",
   "execution_count": null,
   "metadata": {},
   "outputs": [],
   "source": []
  }
 ],
 "metadata": {
  "kernelspec": {
   "display_name": "Python 3 (ipykernel)",
   "language": "python",
   "name": "python3"
  },
  "language_info": {
   "codemirror_mode": {
    "name": "ipython",
    "version": 3
   },
   "file_extension": ".py",
   "mimetype": "text/x-python",
   "name": "python",
   "nbconvert_exporter": "python",
   "pygments_lexer": "ipython3",
   "version": "3.8.12"
  }
 },
 "nbformat": 4,
 "nbformat_minor": 2
}
