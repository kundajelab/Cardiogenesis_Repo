{
 "cells": [
  {
   "cell_type": "code",
   "execution_count": null,
   "metadata": {},
   "outputs": [],
   "source": [
    "import h5py\n",
    "import pandas as pd \n",
    "import scanpy as sc\n",
    "import anndata"
   ]
  },
  {
   "cell_type": "code",
   "execution_count": null,
   "metadata": {},
   "outputs": [],
   "source": [
    "import wot\n",
    "import matplotlib.pyplot as plt"
   ]
  },
  {
   "cell_type": "code",
   "execution_count": null,
   "metadata": {},
   "outputs": [],
   "source": [
    "adata=sc.read_loom(\"/For_optimal_transport/Genescore_foropt_fetalheart1.loom\")#reading in the loom object of gene score"
   ]
  },
  {
   "cell_type": "code",
   "execution_count": null,
   "metadata": {
    "scrolled": true
   },
   "outputs": [],
   "source": [
    "adata_cell_details=pd.read_csv('For_optimal_transport/Cell_details.csv')#loading the barcode details\n",
    "adata_cell_details.index=adata_cell_details['index']\n",
    "print(adata_cell_details[0:5])\n"
   ]
  },
  {
   "cell_type": "code",
   "execution_count": null,
   "metadata": {},
   "outputs": [],
   "source": [
    "adata.obs['Clusters1']=adata_cell_details['Clusters1']\n",
    "adata.obs['index']=adata_cell_details['index']"
   ]
  },
  {
   "cell_type": "code",
   "execution_count": null,
   "metadata": {},
   "outputs": [],
   "source": [
    "adata.obs['Day']=adata.obs['orig_ident']\n",
    "adata.obs['Day']=adata.obs['Day'].str.replace('F19','3')\n",
    "adata.obs['Day']=adata.obs['Day'].str.replace('F8','2')\n",
    "adata.obs['Day']=adata.obs['Day'].str.replace('F6','1')\n",
    "adata.obs['Day']=adata.obs['Day'].astype(int)\n",
    "adata.obs[0:5]"
   ]
  },
  {
   "cell_type": "code",
   "execution_count": null,
   "metadata": {},
   "outputs": [],
   "source": [
    "figure = plt.figure(figsize=(10, 10))\n",
    "plt.axis('off')\n",
    "plt.tight_layout()\n",
    "plt.scatter(pd.DataFrame(adata.obsm['UMAP_cell_embeddings'])[0], pd.DataFrame(adata.obsm['UMAP_cell_embeddings'])[1],c=adata.obs['cell_growth_rate'],\n",
    "               s=4, marker=',', edgecolors='none', alpha=0.8)\n",
    "cb = plt.colorbar()\n",
    "#cb.ax.set_title('Day')\n"
   ]
  },
  {
   "cell_type": "code",
   "execution_count": null,
   "metadata": {},
   "outputs": [],
   "source": [
    "figure = plt.figure(figsize=(10, 10))\n",
    "plt.axis('off')\n",
    "plt.tight_layout()\n",
    "plt.scatter(pd.DataFrame(adata.obsm['UMAP_cell_embeddings'])[0], pd.DataFrame(adata.obsm['UMAP_cell_embeddings'])[1],c=adata.obs['Day'],\n",
    "               s=4, marker=',', edgecolors='none', alpha=0.8)\n",
    "cb = plt.colorbar()\n",
    "cb.ax.set_title('Day')\n"
   ]
  },
  {
   "cell_type": "code",
   "execution_count": null,
   "metadata": {},
   "outputs": [],
   "source": [
    "GENE_SETS_PATH='For_optimal_transport/cellcycle_apoptosis.gmx'#using the gene sets to get the cell cycle and apoptosis signal"
   ]
  },
  {
   "cell_type": "code",
   "execution_count": null,
   "metadata": {},
   "outputs": [],
   "source": [
    "GENE_SET_SCORES_PATH = 'For_optimal_transport/cellcyle_apoptosis_gene_set_scores.csv'#path for the file write"
   ]
  },
  {
   "cell_type": "code",
   "execution_count": null,
   "metadata": {},
   "outputs": [],
   "source": [
    "gs = wot.io.read_sets(GENE_SETS_PATH, adata.var.index.values)"
   ]
  },
  {
   "cell_type": "code",
   "execution_count": null,
   "metadata": {},
   "outputs": [],
   "source": [
    "import ipywidgets as widgets\n",
    "import numpy as np\n",
    "import pandas as pd\n",
    "from matplotlib import pyplot as plt\n",
    "\n",
    "import wot\n"
   ]
  },
  {
   "cell_type": "code",
   "execution_count": null,
   "metadata": {},
   "outputs": [],
   "source": [
    "gene_set_scores_df = pd.DataFrame(index=adata.obs.index)\n",
    "print(gene_set_scores_df[0:5])"
   ]
  },
  {
   "cell_type": "code",
   "execution_count": null,
   "metadata": {},
   "outputs": [],
   "source": [
    "for j in range(gs.shape[1]):\n",
    "    gene_set_name = str(gs.var.index.values[j])\n",
    "    result = wot.score_gene_sets(ds=adata, gs=gs[:, [j]], permutations=0, method='mean_z_score')\n",
    "    gene_set_scores_df[gene_set_name] = result['score']\n",
    "gene_set_scores_df.to_csv(GENE_SET_SCORES_PATH, index_label='id')"
   ]
  },
  {
   "cell_type": "code",
   "execution_count": null,
   "metadata": {},
   "outputs": [],
   "source": [
    "gene_set_scores_df = pd.read_csv(GENE_SET_SCORES_PATH,index_col='id')\n",
    "gene_set_dropdown = widgets.Dropdown(\n",
    "    options=gene_set_scores_df.columns,\n",
    "    description='Gene Set:'\n",
    ")\n",
    "\n"
   ]
  },
  {
   "cell_type": "code",
   "execution_count": null,
   "metadata": {},
   "outputs": [],
   "source": [
    "coord_df=pd.DataFrame(adata.obsm['UMAP_cell_embeddings'])\n",
    "coord_df.columns=['x','y']\n",
    "coord_df.index=adata.obs.index\n",
    "print(coord_df[0:5])\n"
   ]
  },
  {
   "cell_type": "code",
   "execution_count": null,
   "metadata": {},
   "outputs": [],
   "source": [
    "coord_df.to_csv('For_optimal_transport/coords_df.csv')#storing the umap coordinates"
   ]
  },
  {
   "cell_type": "code",
   "execution_count": null,
   "metadata": {},
   "outputs": [],
   "source": [
    "days_df=pd.DataFrame(adata.obs['Day'])"
   ]
  },
  {
   "cell_type": "code",
   "execution_count": null,
   "metadata": {},
   "outputs": [],
   "source": [
    "gene_set_scores_df = gene_set_scores_df.join(coord_df).join(days_df)\n",
    "print(gene_set_scores_df[0:5])"
   ]
  },
  {
   "cell_type": "code",
   "execution_count": null,
   "metadata": {},
   "outputs": [],
   "source": [
    "unique_days = adata.obs['Day'].unique()"
   ]
  },
  {
   "cell_type": "code",
   "execution_count": null,
   "metadata": {},
   "outputs": [],
   "source": [
    "day_selector = widgets.SelectionRangeSlider(\n",
    "    options=set(unique_days),\n",
    "    continuous_update=False,\n",
    "    index=(0,2),\n",
    "    description='Weeks'\n",
    ")"
   ]
  },
  {
   "cell_type": "code",
   "execution_count": null,
   "metadata": {},
   "outputs": [],
   "source": [
    "day_selector"
   ]
  },
  {
   "cell_type": "code",
   "execution_count": null,
   "metadata": {},
   "outputs": [],
   "source": [
    "import matplotlib \n",
    "matplotlib.rcParams['pdf.fonttype']=42\n",
    "from matplotlib import pyplot as plt\n",
    "\n",
    "def update_gene_set_vis(name, days):\n",
    "    gene_set_score_coords = gene_set_scores_df[(gene_set_scores_df['Day']>=days[0]) & (gene_set_scores_df['Day']<=days[1])]\n",
    "    figure = plt.figure(figsize=(7, 7))\n",
    "    #plt.axis('off')\n",
    "    plt.tight_layout()\n",
    "    plt.title(name + ', Weeks {}-{}'.format(days[0], days[1]))\n",
    "    plt.scatter(coord_df['x'], coord_df['y'], c='#d0d0d0',\n",
    "                   s=4, marker=',', edgecolors='none', alpha=0.8)\n",
    "    plt.scatter(gene_set_score_coords['x'], gene_set_score_coords['y'], c=gene_set_score_coords[name],\n",
    "                   s=4, marker=',', edgecolors='none')\n",
    "    cb = plt.colorbar()\n",
    "    cb.ax.set_title('Signature')\n",
    "    plt.savefig('OT_trajectory_apoptosis.pdf',dpi=1200)\n",
    "    figure2 = plt.figure(figsize=(10, 5))\n",
    "    plt.title(name + ', Weeks {}-{}'.format(days[0], days[1]))\n",
    "    plt.hist(gene_set_score_coords[name])\n",
    "    \n",
    "    return figure, figure2\n",
    "\n",
    "widgets.interact(update_gene_set_vis, name=gene_set_dropdown, days=day_selector)"
   ]
  },
  {
   "cell_type": "code",
   "execution_count": null,
   "metadata": {},
   "outputs": [],
   "source": [
    "cell_sets=adata.obs.groupby('Clusters1')['index'].apply(list).to_dict()\n"
   ]
  },
  {
   "cell_type": "code",
   "execution_count": null,
   "metadata": {},
   "outputs": [],
   "source": [
    "fout = \"For_optimal_transport/major_cell_set.gmt\"#A dictionary of barcode to cluster relationship\n",
    "fo = open(fout, \"w\")\n",
    "\n",
    "for k, v in cell_sets.items():\n",
    "    fo.write(str(k) + '\\t-\\t'+ str(v) + '\\n')\n",
    "\n",
    "fo.close()\n",
    "#replace all these characters [', in the file"
   ]
  },
  {
   "cell_type": "code",
   "execution_count": null,
   "metadata": {},
   "outputs": [],
   "source": [
    "cell_sets_path='For_optimal_transport/major_cell_set.gmt'#loading the barcode to cluster dictionary"
   ]
  },
  {
   "cell_type": "code",
   "execution_count": null,
   "metadata": {},
   "outputs": [],
   "source": [
    "cell_sets = wot.io.read_sets(cell_sets_path)"
   ]
  },
  {
   "cell_type": "code",
   "execution_count": null,
   "metadata": {},
   "outputs": [],
   "source": [
    "import ipywidgets as widgets\n",
    "# Visualize Cell Sets \n",
    "cell_set_dropdown = widgets.Dropdown(\n",
    "    options=cell_sets.var.index,\n",
    "    description='Cell Set:'\n",
    ")\n"
   ]
  },
  {
   "cell_type": "code",
   "execution_count": null,
   "metadata": {},
   "outputs": [],
   "source": [
    "\n",
    "day_selector = widgets.SelectionRangeSlider(\n",
    "    options=unique_days,\n",
    "    continuous_update=False,\n",
    "    index=(0,len(unique_days)-1),\n",
    "    description='Weeks'\n",
    ")"
   ]
  },
  {
   "cell_type": "code",
   "execution_count": null,
   "metadata": {},
   "outputs": [],
   "source": [
    "\n",
    "def update_cell_set_vis(name, days):\n",
    "    cell_set = cell_sets[:, name]\n",
    "    cell_set_coords = cell_set[cell_set.X>0].obs.join(coord_df).join(days_df)\n",
    "    cell_set_coords = cell_set_coords[(cell_set_coords['Day']>=days[0]) & (cell_set_coords['Day']<=days[1])]\n",
    "    figure = plt.figure(figsize=(10, 10))\n",
    "    plt.axis('off')\n",
    "    plt.tight_layout()\n",
    "    plt.title(name + ', Weeks {}-{}, {:,} cells'.format(days[0], days[1], cell_set_coords.shape[0]))\n",
    "    plt.scatter(coord_df['x'], coord_df['y'], c='#f0f0f0',\n",
    "                   s=4, marker=',', edgecolors='none', alpha=0.8)\n",
    "    plt.scatter(cell_set_coords['x'], cell_set_coords['y'], c=cell_set_coords['Day'],\n",
    "                   s=4, marker=',', edgecolors='none', vmin=unique_days[0],  vmax=unique_days[len(unique_days)-1])\n",
    "    cb = plt.colorbar()\n",
    "    cb.ax.set_title('Week')\n",
    "\n",
    "widgets.interact(update_cell_set_vis, name=cell_set_dropdown, days=day_selector)\n"
   ]
  },
  {
   "cell_type": "code",
   "execution_count": null,
   "metadata": {},
   "outputs": [],
   "source": [
    "#making a copy of gene_set_scores_df\n",
    "gene_set_scores=gene_set_scores_df"
   ]
  },
  {
   "cell_type": "code",
   "execution_count": null,
   "metadata": {
    "scrolled": true
   },
   "outputs": [],
   "source": [
    "proliferation=gene_set_scores['Cell.cycle']\n",
    "apoptosis = gene_set_scores['Apoptosis']\n",
    "\n",
    "print(gene_set_scores_df[0:5])\n",
    "print(gene_set_scores[0:5])\n",
    "print(proliferation[0:5])\n",
    "print(apoptosis[0:5])"
   ]
  },
  {
   "cell_type": "code",
   "execution_count": null,
   "metadata": {},
   "outputs": [],
   "source": [
    "# apply logistic function to transform to birth rate and death rate\n",
    "def logistic(x, L, k, x0=0):\n",
    "    f = L / (1 + np.exp(-k * (x - x0)))\n",
    "    return f\n",
    "def gen_logistic(p, beta_max, beta_min, pmax, pmin, center, width):\n",
    "    return beta_min + logistic(p, L=beta_max - beta_min, k=4 / width, x0=center)\n",
    "\n",
    "def beta(p, beta_max=1.7, beta_min=0.3, pmax=1.0, pmin=-0.5, center=0.25):\n",
    "    return gen_logistic(p, beta_max, beta_min, pmax, pmin, center, width=0.5)\n",
    "\n",
    "def delta(a, delta_max=1.7, delta_min=0.3, amax=0.5, amin=-0.4, center=0.1):\n",
    "    return gen_logistic(a, delta_max, delta_min, amax, amin, center,\n",
    "                          width=0.2)\n",
    "\n",
    "birth = beta(proliferation)\n",
    "death = delta(apoptosis)\n",
    "\n",
    "print(birth[0:5])\n",
    "print(death[0:5])\n",
    "\n",
    "gr = np.exp(birth-death)\n",
    "growth_rates_df = pd.DataFrame(index=gene_set_scores.index, data={'cell_growth_rate':gr})\n",
    "growth_rates_df.to_csv('For_optimal_transport/growth_gs_init.txt')#write the growth rate of barcodes \n",
    "#This file will be used by the OT algorithm when run with peaks\n"
   ]
  },
  {
   "cell_type": "code",
   "execution_count": null,
   "metadata": {},
   "outputs": [],
   "source": []
  },
  {
   "cell_type": "code",
   "execution_count": null,
   "metadata": {},
   "outputs": [],
   "source": []
  }
 ],
 "metadata": {
  "kernelspec": {
   "display_name": "Python 3",
   "language": "python",
   "name": "python3"
  },
  "language_info": {
   "codemirror_mode": {
    "name": "ipython",
    "version": 3
   },
   "file_extension": ".py",
   "mimetype": "text/x-python",
   "name": "python",
   "nbconvert_exporter": "python",
   "pygments_lexer": "ipython3",
   "version": "3.9.2"
  }
 },
 "nbformat": 4,
 "nbformat_minor": 2
}
