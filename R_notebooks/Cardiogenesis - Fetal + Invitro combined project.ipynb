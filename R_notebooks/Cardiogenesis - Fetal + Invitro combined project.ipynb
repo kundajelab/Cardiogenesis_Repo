{
 "cells": [
  {
   "cell_type": "code",
   "execution_count": null,
   "metadata": {
    "scrolled": true
   },
   "outputs": [],
   "source": [
    "library(BiocManager)\n",
    "library(BSgenome.Hsapiens.UCSC.hg38)\n",
    "library(ArchR)\n",
    "library(ggplot2)\n",
    "library(TFBSTools)\n",
    "library(Seurat)\n",
    "library(ggplot2)\n",
    "library(dplyr)\n",
    "library(harmony)\n",
    "library(SeuratData)\n",
    "library(Signac)\n",
    "library(BSgenome.Hsapiens.UCSC.hg38)\n",
    "library(JASPAR2018)\n",
    "library(edgeR)\n",
    "library(metaMA)\n",
    "library(cicero)\n",
    "library(ggbiplot)\n",
    "library(sctransform)\n",
    "data(\"geneAnnoHg38\")\n",
    "data(\"genomeAnnoHg38\")\n",
    "geneAnno <- geneAnnoHg38\n",
    "genomeAnno <- genomeAnnoHg38\n",
    "addArchRThreads(28)\n"
   ]
  },
  {
   "cell_type": "code",
   "execution_count": null,
   "metadata": {},
   "outputs": [],
   "source": [
    "pathFragments <- \"path to all fragment files from both invitro differentiation and fetal heart\"\n",
    "inputFiles <- list.files(pathFragments, pattern = \".gz$\", full.names = TRUE)\n",
    "names(inputFiles) <- gsub(\".fragments.tsv.gz\", \"\", list.files(pathFragments, pattern = \".gz$\"))"
   ]
  },
  {
   "cell_type": "code",
   "execution_count": null,
   "metadata": {},
   "outputs": [],
   "source": [
    "ArrowFiles <- createArrowFiles(\n",
    "  inputFiles = inputFiles,\n",
    "  filterTSS = 6,\n",
    "  filterFrags = 1000, \n",
    "  sampleNames = names(inputFiles),\n",
    "  geneAnnotation = geneAnno,\n",
    "  genomeAnnotation = genomeAnno,\n",
    "  force = FALSE\n",
    ")"
   ]
  },
  {
   "cell_type": "code",
   "execution_count": null,
   "metadata": {},
   "outputs": [],
   "source": [
    "proj_1 <- ArchRProject(\n",
    "  ArrowFiles = ArrowFiles, \n",
    "  geneAnnotation = geneAnno,\n",
    "  genomeAnnotation = genomeAnno,\n",
    "  outputDirectory = \"path to the combined archr project\"\n",
    ")\n",
    "\n",
    "proj_1"
   ]
  },
  {
   "cell_type": "code",
   "execution_count": null,
   "metadata": {},
   "outputs": [],
   "source": [
    "invivo_cells<-read.csv('path to precleaned fetal barcodes')\n",
    "invitro_cells<-read.csv('path to precleaned invitro differentiation barcodes')\n",
    "\n",
    "head(invivo_cells)\n",
    "head(invitro_cells)\n"
   ]
  },
  {
   "cell_type": "code",
   "execution_count": null,
   "metadata": {},
   "outputs": [],
   "source": [
    "req_names<-c(as.character(invitro_cells$X),as.character(invivo_cells$X))\n",
    "length(req_names)\n",
    "head(req_names)"
   ]
  },
  {
   "cell_type": "code",
   "execution_count": null,
   "metadata": {},
   "outputs": [],
   "source": [
    "proj<-subsetArchRProject(ArchRProj=proj_1,cells=req_names,\n",
    "                        outputDirectory='path to subsetted project')\n",
    "\n",
    "proj"
   ]
  },
  {
   "cell_type": "code",
   "execution_count": null,
   "metadata": {
    "scrolled": true
   },
   "outputs": [],
   "source": [
    "proj <- addIterativeLSI(\n",
    "  ArchRProj = proj, \n",
    "  useMatrix = \"TileMatrix\",force=TRUE,iterations = 4\n",
    ")\n",
    "\n",
    "\n",
    "proj <- addUMAP(\n",
    "  ArchRProj = proj, \n",
    "  reducedDims = \"IterativeLSI\",force=TRUE\n",
    ")\n",
    "proj <- addClusters(input = proj, reducedDims = \"IterativeLSI\",  resolution = 0.6,force=TRUE)"
   ]
  },
  {
   "cell_type": "code",
   "execution_count": null,
   "metadata": {},
   "outputs": [],
   "source": [
    "plotList <- list()\n",
    "plotList[[1]] <- plotEmbedding(ArchRProj = proj, colorBy = \"colData\", name = \"Sample\")\n",
    "plotList[[2]] <- plotEmbedding(ArchRProj = proj, colorBy = \"colData\", name = \"Clusters\", plotParams = list(labelMeans=TRUE))\n"
   ]
  },
  {
   "cell_type": "code",
   "execution_count": null,
   "metadata": {},
   "outputs": [],
   "source": [
    "#getting reproducible peak \n",
    "proj <- addGroupCoverages(ArchRProj = proj, groupBy = \"Clusters\")\n",
    "\n",
    "#Call Reproducible Peaks w/ Macs2 (~5-10 minutes)\n",
    "proj <- addReproduciblePeakSet(ArchRProj = proj, groupBy = \"Clusters\")\n",
    "\n",
    "#Add Peak Matrix\n",
    "proj <- addPeakMatrix(ArchRProj = proj)\n",
    "\n"
   ]
  },
  {
   "cell_type": "code",
   "execution_count": null,
   "metadata": {},
   "outputs": [],
   "source": [
    "proj <- addMotifAnnotations(ArchRProj = proj, motifSet = \"cisbp\", name = \"Motif\")"
   ]
  },
  {
   "cell_type": "code",
   "execution_count": null,
   "metadata": {},
   "outputs": [],
   "source": [
    "###chromvar"
   ]
  },
  {
   "cell_type": "code",
   "execution_count": null,
   "metadata": {},
   "outputs": [],
   "source": [
    "proj <- addBgdPeaks(proj,force = TRUE)\n",
    "#Add chromVAR Deviations (~20-25 min if using CisBP Motif Set)\n",
    "proj <- addDeviationsMatrix(ArchRProj = proj, peakAnnotation = \"Motif\")\n"
   ]
  },
  {
   "cell_type": "code",
   "execution_count": null,
   "metadata": {},
   "outputs": [],
   "source": []
  }
 ],
 "metadata": {
  "kernelspec": {
   "display_name": "R",
   "language": "R",
   "name": "ir"
  },
  "language_info": {
   "codemirror_mode": "r",
   "file_extension": ".r",
   "mimetype": "text/x-r-source",
   "name": "R",
   "pygments_lexer": "r",
   "version": "4.0.3"
  }
 },
 "nbformat": 4,
 "nbformat_minor": 2
}
