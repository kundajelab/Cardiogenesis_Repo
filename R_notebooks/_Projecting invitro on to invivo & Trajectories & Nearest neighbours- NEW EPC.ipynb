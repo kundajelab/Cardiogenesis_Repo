{
 "cells": [
  {
   "cell_type": "code",
   "execution_count": null,
   "metadata": {
    "scrolled": true
   },
   "outputs": [],
   "source": [
    "library(BiocManager)\n",
    "library(BSgenome.Hsapiens.UCSC.hg38)\n",
    "library(ArchR)\n",
    "library(ggplot2)\n",
    "library(TFBSTools)\n",
    "library(Seurat)\n",
    "library(ggplot2)\n",
    "library(dplyr)\n",
    "library(harmony)\n",
    "library(Signac)\n",
    "library(BSgenome.Hsapiens.UCSC.hg38)\n",
    "library(JASPAR2018)\n",
    "library(edgeR)\n",
    "library(ArchR)\n",
    "data(\"geneAnnoHg38\")\n",
    "data(\"genomeAnnoHg38\")\n",
    "geneAnno <- geneAnnoHg38\n",
    "genomeAnno <- genomeAnnoHg38\n",
    "addArchRThreads(25)\n"
   ]
  },
  {
   "cell_type": "code",
   "execution_count": null,
   "metadata": {
    "scrolled": true
   },
   "outputs": [],
   "source": [
    "library(Matrix)\n",
    "library(SummarizedExperiment)\n",
    "#library(tidyverse)\n",
    "library(uwot)\n",
    "library(edgeR)\n",
    "library(FNN)\n",
    "library(matrixStats)\n",
    "library(Rcpp)\n",
    "set.seed(1)"
   ]
  },
  {
   "cell_type": "code",
   "execution_count": null,
   "metadata": {},
   "outputs": [],
   "source": [
    "sparseRowVariances <- function (m){\n",
    "    rM <- Matrix::rowMeans(m)\n",
    "    rV <- computeSparseRowVariances(m@i + 1, m@x, rM, ncol(m))\n",
    "    return(rV)\n",
    "}\n",
    "\n",
    "#Helper function for summing sparse matrix groups\n",
    "groupSums <- function (mat, groups = NULL, na.rm = TRUE, sparse = FALSE){\n",
    "    stopifnot(!is.null(groups))\n",
    "    stopifnot(length(groups) == ncol(mat))\n",
    "    gm <- lapply(unique(groups), function(x) {\n",
    "        if (sparse) {\n",
    "            Matrix::rowSums(mat[, which(groups == x), drop = F], na.rm = na.rm)\n",
    "        }\n",
    "        else {\n",
    "            rowSums(mat[, which(groups == x), drop = F], na.rm = na.rm)\n",
    "        }\n",
    "    }) %>% Reduce(\"cbind\", .)\n",
    "    colnames(gm) <- unique(groups)\n",
    "    return(gm)\n",
    "}\n",
    "\n",
    "sparseMatTTest <- function(mat1, mat2, m0 = 0){\n",
    "\t#Get Population Values\n",
    "\tn1 <- ncol(mat1)\n",
    "\tn2 <- ncol(mat2)\n",
    "\tn <- n1 + n2\n",
    "\t#Sparse Row Means\n",
    "\tm1 <- Matrix::rowMeans(mat1, na.rm=TRUE)\n",
    "\tm2 <- Matrix::rowMeans(mat2, na.rm=TRUE)\n",
    "\t#Sparse Row Variances\n",
    "\tv1 <- ArchR:::computeSparseRowVariances(mat1@i + 1, mat1@x, m1, n1)\n",
    "\tv2 <- ArchR:::computeSparseRowVariances(mat2@i + 1, mat2@x, m2, n2)\n",
    "\t#Calculate T Statistic\n",
    "\tse <- sqrt( (1/n1 + 1/n2) * ((n1-1)*v1 + (n2-1)*v2)/(n1+n2-2) )\n",
    "    tstat <- (m1-m2-m0)/se\n",
    "\t#tstat <- sqrt((n1 * n2) / n) / sqrt((n1-1)/(n-2)*v1 + (n2-1)/(n-2)*v2)\n",
    "\tpvalue <- 2*pt(-abs(tstat), n - 2)\n",
    "\tfdr <- p.adjust(pvalue, method = \"fdr\")\n",
    "\tout <- data.frame(fdr = fdr, pval = pvalue, tstat = tstat, mean1 = m1, mean2 = m2, var1 = v1, var2 = v2, n1 = n1, n2 = n2)\n",
    "\treturn(out)\n",
    "}"
   ]
  },
  {
   "cell_type": "code",
   "execution_count": null,
   "metadata": {},
   "outputs": [],
   "source": [
    "fn <- unclass(lsf.str(envir = asNamespace(\"ArchR\"), all = TRUE))\n",
    " for(i in seq_along(fn)){\n",
    "  tryCatch({\n",
    "   eval(parse(text=paste0(fn[i], '<-ArchR:::', fn[i])))\n",
    "  }, error = function(x){\n",
    "  })\n",
    " }"
   ]
  },
  {
   "cell_type": "code",
   "execution_count": null,
   "metadata": {},
   "outputs": [],
   "source": [
    "# Code below adapted from ArchR function\n",
    "projectLSI <- function(mat_se = NULL, LSI = NULL){  \n",
    "    require(Matrix)\n",
    "    set.seed(LSI$seed)\n",
    "\n",
    "    subset_rows <- paste(rowData(mat_se)$seqnames, rowData(mat_se)$start) %in% paste(LSI$LSIFeatures$seqnames, LSI$LSIFeatures$start)\n",
    "    mat <- assay(mat_se)\n",
    "    mat <- mat[subset_rows,]\n",
    "\n",
    "    #Get Same Features--whats stored here in lsi isnt exactly whats needed, so I added the lines above this to subset\n",
    "    mat <- mat[LSI$idx,]\n",
    "\n",
    "    #Binarize Matrix\n",
    "    if(LSI$binarize){\n",
    "        mat@x[mat@x > 0] <- 1       \n",
    "    }\n",
    "    \n",
    "    #TF\n",
    "    colSm <- Matrix::colSums(mat)\n",
    "    if(any(colSm == 0)){\n",
    "      exclude <- which(colSm==0)\n",
    "      mat <- mat[,-exclude]\n",
    "      colSm <- colSm[-exclude]\n",
    "    }\n",
    "    mat@x <- mat@x / rep.int(colSm, Matrix::diff(mat@p))\n",
    "\n",
    "    #Adapted from Stuart et al.\n",
    "\n",
    "    #IDF\n",
    "    idf   <- as(LSI$nCol / LSI$rowSm, \"sparseVector\")\n",
    "\n",
    "    #TF-IDF\n",
    "    mat <- as(Matrix::Diagonal(x=as.vector(idf)), \"sparseMatrix\") %*% mat\n",
    "\n",
    "    #Log transform TF-IDF\n",
    "    mat@x <- log(mat@x * LSI$scaleTo + 1) \n",
    "\n",
    "    gc()\n",
    "\n",
    "    #Clean Up Matrix\n",
    "    idxNA <- Matrix::which(is.na(mat),arr.ind=TRUE)\n",
    "    if(length(idxNA) > 0){\n",
    "        mat[idxNA] <- 0\n",
    "    }\n",
    "\n",
    "    #Calc V\n",
    "    V <- Matrix::t(mat) %*% LSI$svd$u %*% Matrix::diag(1/LSI$svd$d)\n",
    "\n",
    "    #LSI Diagonal\n",
    "    svdDiag <- matrix(0, nrow=LSI$nDimensions, ncol=LSI$nDimensions)\n",
    "    diag(svdDiag) <- LSI$svd$d\n",
    "    matSVD <- Matrix::t(svdDiag %*% Matrix::t(V))\n",
    "    matSVD <- as.matrix(matSVD)\n",
    "    rownames(matSVD) <- colnames(mat)\n",
    "    colnames(matSVD) <- paste0(\"LSI\",seq_len(ncol(matSVD)))\n",
    "    matSVD\n",
    "}\n"
   ]
  },
  {
   "cell_type": "code",
   "execution_count": null,
   "metadata": {
    "scrolled": true
   },
   "outputs": [],
   "source": [
    "# Load normal project \n",
    "proj_featal_invivo <- loadArchRProject(path = \"ARCHR_INVIVO_PROJECTPATH\")\n",
    "# Load the new EPC project\n",
    "proj_all_invitro_peaks <- loadArchRProject(path = \"ARCHR_NEWEPC_PROJECTPATH\")\n",
    "#load the combined object \n",
    "all_combined<-loadArchRProject('ARCHR_combined_INVIVO_NEWEPC_PROJECTPATH')\n"
   ]
  },
  {
   "cell_type": "code",
   "execution_count": null,
   "metadata": {},
   "outputs": [],
   "source": [
    "# Load saved lsi\n",
    "lsi <- getReducedDims(proj_featal_invivo, reducedDims = \"IterativeLSI\", returnMatrix = FALSE)\n",
    "\n",
    "# Load Saved UMAP Manifold\n",
    "umap <- getEmbedding(proj_featal_invivo, embedding = \"UMAP\", returnDF = FALSE)\n",
    "umapManifold <- uwot::load_uwot(umap$params$uwotModel[1])\n",
    "\n"
   ]
  },
  {
   "cell_type": "code",
   "execution_count": null,
   "metadata": {},
   "outputs": [],
   "source": [
    "#read the matrix from the differentiation and get the matSVD returned.\n",
    "sampleName='EPC'\n",
    "mat_se <- getMatrixFromArrow(\n",
    "  ArrowFile = paste0(\"ARCHRPROJECTPATH/ArrowFiles/\", sampleName, \".arrow\"),  \n",
    "  useMatrix = \"TileMatrix\",\n",
    "  useSeqnames = NULL,\n",
    "  ArchRProj = proj_all_invitro_peaks,\n",
    "  verbose = TRUE,\n",
    "  binarize = TRUE\n",
    ")\n",
    "\n",
    "\n"
   ]
  },
  {
   "cell_type": "code",
   "execution_count": null,
   "metadata": {},
   "outputs": [],
   "source": [
    "lsiProjection <- projectLSI(mat_se, lsi)\n",
    "#UMAP Projection\n",
    "set.seed(1)\n",
    "umapProjection <- uwot::umap_transform(as.matrix(lsiProjection)[,1:30], umapManifold, verbose = TRUE)\n",
    "#Plot Projection\n",
    "refDF <- data.frame(row.names = proj_featal_invivo$CellNames , X1 = umapManifold$embedding[,1], X2 = umapManifold$embedding[,2], Type = \"reference\")\n",
    "proDF <- data.frame(row.names = proj_all_invitro_peaks$CellNames, X1 = umapProjection[,1], X2 = umapProjection[,2], Type = \"smc\")\n",
    "projectionDF <- rbind(refDF, proDF)\n",
    "#\n",
    "plotParams <- list()\n",
    "plotParams$x <- projectionDF[, 'X1']\n",
    "plotParams$y <- projectionDF[, 'X2']\n",
    "plotParams$title <- \" Colored by Clusters\"\n",
    "plotParams$baseSize <- 10\n",
    "plotParams$xlabel <- \"UMAP Dimension 1\"\n",
    "plotParams$ylabel <- \"UMAP Dimension 2\"\n",
    "plotParams$color <- as.character(projectionDF$Type)\n",
    "plotParams$size <- 0.2\n",
    "plotParams$randomize <- TRUE\n",
    "plotParams$pal <- c(\"reference\"=\"#E0ECFF\",\"smc\"=\"#60824F\")\n",
    "plotParams$labelMeans <- FALSE\n",
    "gg<-do.call(ggPoint,plotParams)\n",
    "gg\n",
    "\n"
   ]
  },
  {
   "cell_type": "code",
   "execution_count": null,
   "metadata": {},
   "outputs": [],
   "source": [
    "#Loading in the PeakMatrix to identify differential enhancers from the in vivo and new EPC combined ArchR Project\n",
    "se<-getMatrixFromProject(all_combined,useMatrix = \"PeakMatrix\")"
   ]
  },
  {
   "cell_type": "code",
   "execution_count": null,
   "metadata": {},
   "outputs": [],
   "source": [
    "###################################### differentials ######################################"
   ]
  },
  {
   "cell_type": "code",
   "execution_count": null,
   "metadata": {},
   "outputs": [],
   "source": [
    "#Enhancers differential \n",
    "#differentials between the nearest neighbours  \n",
    "#enhancers and enhacer and gene links \n",
    "#Input Parameters\n",
    "input_knn <- 25\n",
    "\n",
    "#LSI-SVD\n",
    "svdReference <- as.data.frame(lsi$matSVD) #loaded lsi\n",
    "svdDisease <- as.data.frame(as.matrix(lsiProjection)) # defined from projectLSI\n",
    "\n",
    "#KNN Nearest Neighbor using FNN #find 25 nn cells\n",
    "library(FNN)\n",
    "set.seed(1)\n",
    "knnDisease <- get.knnx(\n",
    "    data = svdReference,\n",
    "    query = svdDisease,\n",
    "    k = input_knn)\n",
    "\n",
    "\n",
    "head(knnDisease$nn.index[,1])\n",
    "uniqueIdx <- unique(as.vector(knnDisease$nn.index))\n",
    "length(uniqueIdx)\n",
    "\n",
    "#Reference cells for testing\n",
    "idxReference <- rownames(svdReference)[uniqueIdx]\n",
    "idxDisease <- colnames(mat_se)\n",
    "idxDisease<-setdiff(idxDisease,setdiff(idxDisease,  rownames(all_combined)))\n",
    "if(length(idxReference) > length(idxDisease)){\n",
    "    idxReference <- sample(idxReference, length(idxDisease))\n",
    "}else{\n",
    "    idxDisease <- sample(idxDisease, length(idxReference))\n",
    "}\n",
    "promoterPeaks <- subjectHits(findOverlaps(resize(getTSS(all_combined), 500 * 2 + 1), getPeakSet(all_combined), ignore.strand=TRUE))\n",
    "matHealthy <- assay(se[,idxReference])\n",
    "matDisease <- assay(se[,idxDisease])\n",
    "#Normalize to scaleTo\n",
    "matNormDisease <- t(t(matDisease)/Matrix::colSums(matDisease[promoterPeaks,])) * 5000\n",
    "matNormHealthy <- t(t(matHealthy)/Matrix::colSums(matHealthy[promoterPeaks,])) * 5000\n",
    "#T-Test Comparisons\n",
    "dfTT <- sparseMatTTest(matNormDisease, matNormHealthy)\n",
    "dfTT$feature <- rownames(matNormDisease)\n",
    "dfTT$log2Mean <- log2(rowMeans(cbind(dfTT$mean1, dfTT$mean2)) + 10^-4)\n",
    "dfTT$log2FC <- log2((dfTT$mean1 + 10^-4)/(dfTT$mean2 + 10^-4))\n",
    "plotDiff <- data.frame(row.names=row.names(dfTT),log2Mean=dfTT$log2Mean,log2FC=dfTT$log2FC,FDR=dfTT$fdr)\n",
    "plotDiff$type <- \"not-differential\"\n",
    "plotDiff$type[plotDiff$log2FC > 1 & plotDiff$FDR < 0.05] <- \"up-regulated\"\n",
    "plotDiff$type[plotDiff$log2FC < -1 & plotDiff$FDR < 0.05] <- \"do-regulated\"\n",
    "\n"
   ]
  },
  {
   "cell_type": "code",
   "execution_count": null,
   "metadata": {
    "scrolled": true
   },
   "outputs": [],
   "source": [
    "#Annotating Cell cluster assignments for nearest neighbour in vivo cells\n",
    "cellcoldata<-getCellColData(proj_featal_invivo)\n",
    "reqnames<-rownames(lsi$matSVD[as.vector(knnDisease$nn.index),])\n",
    "temp_df<-data.frame(cellcoldata[reqnames,'Clusters2'])\n",
    "names(temp_df)<-'clusters'\n",
    "Cluterfreq<-data.frame(table(temp_df)/dim(temp_df)[1])\n",
    "Cluterfreq$Rank<-rank(a$Freq)\n",
    "\n"
   ]
  },
  {
   "cell_type": "code",
   "execution_count": null,
   "metadata": {},
   "outputs": [],
   "source": [
    "#Setting the color scheme as per the original cellular annotations\n",
    "b<-c(\"B_Atrial_Cardiomyocytes\"=\"#FFAC53\",\"C_Ventricular_Cardiomyocytes\"=\"#F15F30\",\"A_Myocardium\"=\"#FFE500\"\n",
    ",\"HA_Cardiac_Fibroblast\"=\"#3B9AB2\",\"F_Cardiac_fibroblast_progenitors\"=\"#0AD7D3\",\"K_vSMC\"=\"#A8DDB5\",\"L_Pericytes\"=\"#79FFFF\"\n",
    ",\"N_Neural_Crest\"=\"#D0CD47\",\"H_Early_Cardiac_fibroblast\"=\"#90D5E4\",\"D_Early_OFT_SMC\"=\"#AAD962\",\"M_Undifferentiated_epicardium\"=\"#208A42\"\n",
    ",\"E_valveFibroblast\"=\"#74A9FF\",\"G_valveFibroblast_late\"=\"#74A9CF\",\"J_Vasculatur_development\"=\"#74C476\",\"O_Endocaridum\"=\"#C06CAB\",\"P_Endocaridum_transitioning\"=\"#C06CFF\",\"T_Venal_endothelium\"=\"#EC6BB1\"\n",
    ",\"Q_Endocaridum_unidentifed\"=\"#89288F\",\"S_Capillary_endothelium\"=\"#E6C2DC\",\"R_Arterial_endothelium\"=\"#F37B7D\")\n",
    "colordf<-data.frame(b)\n",
    "colordf$temp_df<-rownames(colordf)\n",
    "names(colordf)<-c('colors','temp_df')\n",
    "head(colordf)\n"
   ]
  },
  {
   "cell_type": "code",
   "execution_count": null,
   "metadata": {},
   "outputs": [],
   "source": [
    "#Creating the nearest neighbour cell cluster frequency \n",
    "new_diff<-Cluterfreq\n",
    "new_diff$type<-'new'\n",
    "new_diff1<-merge(new_diff,colordf,by='temp_df')\n"
   ]
  },
  {
   "cell_type": "code",
   "execution_count": null,
   "metadata": {},
   "outputs": [],
   "source": [
    "#Loading the previous nearest neighbour cell cluster frequency and plotting\n",
    "old_diff<-read.csv('olddifferentiation_nearestneighbournumbers.csv')\n",
    "old_diff$X <- NULL\n",
    "old_diff$type<-'old'\n",
    "old_diff1<-merge(old_diff,colordf,by='temp_df')\n",
    "newdf<-rbind(new_diff1,old_diff1)\n"
   ]
  },
  {
   "cell_type": "code",
   "execution_count": null,
   "metadata": {},
   "outputs": [],
   "source": [
    "pdf(file = \"NearestNeighboursplot.pdf\", width = 8, height = 6) \n",
    "\n",
    "p1 <- ggplot(newdf) +\n",
    "    geom_col(aes(x = type, y = Freq, fill = temp_df ) ) +scale_fill_manual(values = c(\"B_Atrial_Cardiomyocytes\"=\"#FFAC53\",\"C_Ventricular_Cardiomyocytes\"=\"#F15F30\",\"A_Myocardium\"=\"#FFE500\"\n",
    ",\"HA_Cardiac_Fibroblast\"=\"#3B9AB2\",\"F_Cardiac_fibroblast_progenitors\"=\"#0AD7D3\",\"K_vSMC\"=\"#A8DDB5\",\"L_Pericytes\"=\"#79FFFF\"\n",
    ",\"N_Neural_Crest\"=\"#D0CD47\",\"H_Early_Cardiac_fibroblast\"=\"#90D5E4\",\"D_Early_OFT_SMC\"=\"#AAD962\",\"M_Undifferentiated_epicardium\"=\"#208A42\"\n",
    ",\"E_valveFibroblast\"=\"#74A9FF\",\"G_valveFibroblast_late\"=\"#74A9CF\",\"J_Vasculatur_development\"=\"#74C476\",\"O_Endocaridum\"=\"#C06CAB\",\"P_Endocaridum_transitioning\"=\"#C06CFF\",\"T_Venal_endothelium\"=\"#EC6BB1\"\n",
    ",\"Q_Endocaridum_unidentifed\"=\"#89288F\",\"S_Capillary_endothelium\"=\"#E6C2DC\",\"R_Arterial_endothelium\"=\"#F37B7D\")) + theme_classic()\n",
    "\n",
    "p1\n",
    "\n",
    "dev.off()"
   ]
  },
  {
   "cell_type": "code",
   "execution_count": null,
   "metadata": {},
   "outputs": [],
   "source": []
  },
  {
   "cell_type": "code",
   "execution_count": null,
   "metadata": {},
   "outputs": [],
   "source": []
  },
  {
   "cell_type": "code",
   "execution_count": null,
   "metadata": {},
   "outputs": [],
   "source": []
  }
 ],
 "metadata": {
  "kernelspec": {
   "display_name": "R",
   "language": "R",
   "name": "ir"
  },
  "language_info": {
   "codemirror_mode": "r",
   "file_extension": ".r",
   "mimetype": "text/x-r-source",
   "name": "R",
   "pygments_lexer": "r",
   "version": "4.0.5"
  }
 },
 "nbformat": 4,
 "nbformat_minor": 2
}
