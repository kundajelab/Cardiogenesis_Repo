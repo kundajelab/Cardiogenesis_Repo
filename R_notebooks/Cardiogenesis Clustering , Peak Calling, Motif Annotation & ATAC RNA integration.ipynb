{
 "cells": [
  {
   "cell_type": "code",
   "execution_count": null,
   "metadata": {
    "scrolled": true
   },
   "outputs": [],
   "source": [
    "library(BiocManager)\n",
    "library(BSgenome.Hsapiens.UCSC.hg38)\n",
    "library(ArchR)\n",
    "library(ggplot2)\n",
    "library(TFBSTools)\n",
    "library(Seurat)\n",
    "library(ggplot2)\n",
    "library(dplyr)\n",
    "library(harmony)\n",
    "#library(SeuratData)\n",
    "library(Signac)\n",
    "library(BSgenome.Hsapiens.UCSC.hg38)\n",
    "library(JASPAR2018)\n",
    "library(edgeR)\n",
    "\n",
    "data(\"geneAnnoHg38\")\n",
    "data(\"genomeAnnoHg38\")\n",
    "geneAnno <- geneAnnoHg38\n",
    "genomeAnno <- genomeAnnoHg38\n",
    "addArchRThreads(12)\n"
   ]
  },
  {
   "cell_type": "code",
   "execution_count": null,
   "metadata": {},
   "outputs": [],
   "source": [
    "fn <- unclass(lsf.str(envir = asNamespace(\"ArchR\"), all = TRUE))\n",
    "  for(i in seq_along(fn)){\n",
    "    tryCatch({\n",
    "      eval(parse(text=paste0(fn[i], '<-ArchR:::', fn[i])))\n",
    "    }, error = function(x){\n",
    "    })\n",
    "  }"
   ]
  },
  {
   "cell_type": "code",
   "execution_count": null,
   "metadata": {},
   "outputs": [],
   "source": [
    "pathFragments <- \"path to fragment files\"\n",
    "inputFiles <- list.files(pathFragments, pattern = \".gz$\", full.names = TRUE)\n",
    "names(inputFiles) <- gsub(\".fragments.tsv.gz\", \"\", list.files(pathFragments, pattern = \".gz$\"))"
   ]
  },
  {
   "cell_type": "code",
   "execution_count": null,
   "metadata": {},
   "outputs": [],
   "source": [
    "#\n",
    "ArrowFiles <- createArrowFiles(\n",
    "  inputFiles = inputFiles,\n",
    "  filterTSS = 6,\n",
    "  filterFrags = 1000, \n",
    "  sampleNames = names(inputFiles),\n",
    "  geneAnnotation = geneAnno,\n",
    "  genomeAnnotation = genomeAnno\n",
    "  force = TRUE\n",
    ")"
   ]
  },
  {
   "cell_type": "code",
   "execution_count": null,
   "metadata": {
    "scrolled": true
   },
   "outputs": [],
   "source": [
    "proj_1<- ArchRProject(\n",
    "  ArrowFiles = ArrowFiles, \n",
    "  geneAnnotation = geneAnno,\n",
    "  genomeAnnotation = genomeAnno,\n",
    "  outputDirectory = \"project path\"\n",
    ")\n",
    "\n",
    "proj_1"
   ]
  },
  {
   "cell_type": "code",
   "execution_count": null,
   "metadata": {},
   "outputs": [],
   "source": [
    "###PreIdentified Macrophage barcodes are removed from the main analysis\n",
    "req_barcodes <- read.csv('Final_barcodes_fetal_heart_NOMICROPHAGES.csv')\n",
    "rownames(req_barcodes)<-req_barcodes$X\n",
    "proj<-subsetCells(ArchRProj=proj_1,cellNames=rownames(req_barcodes))\n"
   ]
  },
  {
   "cell_type": "code",
   "execution_count": null,
   "metadata": {
    "scrolled": true
   },
   "outputs": [],
   "source": [
    "proj <- addIterativeLSI(\n",
    "  ArchRProj = proj, \n",
    "  useMatrix = \"TileMatrix\",force=TRUE,iterations = 4\n",
    ")\n",
    "\n",
    "\n",
    "proj <- addUMAP(\n",
    "  ArchRProj = proj, \n",
    "  reducedDims = \"IterativeLSI\",force=TRUE\n",
    ")\n",
    "\n"
   ]
  },
  {
   "cell_type": "code",
   "execution_count": null,
   "metadata": {
    "scrolled": true
   },
   "outputs": [],
   "source": [
    "proj <- addClusters(input = proj, reducedDims = \"IterativeLSI\", resolution =2,force=TRUE)"
   ]
  },
  {
   "cell_type": "code",
   "execution_count": null,
   "metadata": {
    "scrolled": false
   },
   "outputs": [],
   "source": [
    "plotList <- list()\n",
    "plotList[[1]] <- plotEmbedding(ArchRProj = proj, colorBy = \"colData\", name = \"Sample\", labelMeans=FALSE)\n",
    "plotList[[2]] <- plotEmbedding(ArchRProj = proj, colorBy = \"colData\", name = \"Clusters2\",keepAxis=FALSE, labelMeans=TRUE)\n",
    "#plotPDF(plotList = plotList, name = \"UMAP-Samples-Clusters\", width = 6, height = 6, ArchRProj = proj, addDOC = FALSE)\n",
    "plotList"
   ]
  },
  {
   "cell_type": "code",
   "execution_count": null,
   "metadata": {},
   "outputs": [],
   "source": [
    "coldata<-getCellColData"
   ]
  },
  {
   "cell_type": "code",
   "execution_count": null,
   "metadata": {
    "scrolled": true
   },
   "outputs": [],
   "source": [
    "#Renaming clusters to more meaningful names and collapsing clusters of same cell types\n",
    "coldata[coldata$Sample=='F19_v2','Sample1']='PCW19'\n",
    "coldata[coldata$Sample=='F8_v2','Sample1']='PCW8'\n",
    "coldata[coldata$Sample=='F6_v2','Sample1']='PCW6'\n",
    "#\n",
    "head(coldata)\n",
    "\n",
    "#\n",
    "coldata[coldata$Clusters=='C5','Clusters1']='Myocardium'\n",
    "coldata[coldata$Clusters=='C1','Clusters1']='Ventricular_Cardiomyocytes'\n",
    "coldata[coldata$Clusters=='C2','Clusters1']='Ventricular_Cardiomyocytes'\n",
    "coldata[coldata$Clusters=='C4','Clusters1']='Ventricular_Cardiomyocytes'\n",
    "coldata[coldata$Clusters=='C3','Clusters1']='Atrial_Cardiomyocytes'\n",
    "#\n",
    "coldata[coldata$Clusters=='C11','Clusters1']='Endocaridum'\n",
    "coldata[coldata$Clusters=='C6','Clusters1']='Endocaridum_transitioning'\n",
    "coldata[coldata$Clusters=='C7','Clusters1']='Endocaridum_unidentifed'\n",
    "coldata[coldata$Clusters=='C8','Clusters1']='Arterial_endothelium'\n",
    "coldata[coldata$Clusters=='C9','Clusters1']='Capillary_endothelium'\n",
    "coldata[coldata$Clusters=='C10','Clusters1']='Venal_endothelium'\n",
    "#\n",
    "coldata[coldata$Clusters=='C21','Clusters1']='Neural_Crest'\n",
    "coldata[coldata$Clusters=='C12','Clusters1']='Cardiac_fibroblast_progenitors'\n",
    "coldata[coldata$Clusters=='C13','Clusters1']='Endocardial_cushion'\n",
    "coldata[coldata$Clusters=='C14','Clusters1']='Early_OFT_SMC'\n",
    "coldata[coldata$Clusters=='C22','Clusters1']='Endocardial_cushion_late'\n",
    "coldata[coldata$Clusters=='C20','Clusters1']='Early_Cardiac_fibroblast'\n",
    "coldata[coldata$Clusters=='C23','Clusters1']='Vasculatur_development'\n",
    "coldata[coldata$Clusters=='C17','Clusters1']='Pericytes' \n",
    "coldata[coldata$Clusters=='C18','Clusters1']='vSMC'\n",
    "coldata[coldata$Clusters=='C15','Clusters1']='Cardiac_Fibroblast'\n",
    "coldata[coldata$Clusters=='C16','Clusters1']='Cardiac_Fibroblast'\n",
    "coldata[coldata$Clusters=='C19','Clusters1']='Undifferentiated_epicardium'\n",
    "#\n",
    "\n",
    "#\n",
    "coldata[coldata$Clusters=='C5','Clusters2']='A_Myocardium'\n",
    "coldata[coldata$Clusters=='C1','Clusters2']='C_Ventricular_Cardiomyocytes'\n",
    "coldata[coldata$Clusters=='C2','Clusters2']='C_Ventricular_Cardiomyocytes'\n",
    "coldata[coldata$Clusters=='C4','Clusters2']='C_Ventricular_Cardiomyocytes'\n",
    "coldata[coldata$Clusters=='C3','Clusters2']='B_Atrial_Cardiomyocytes'\n",
    "#\n",
    "coldata[coldata$Clusters=='C11','Clusters2']='O_Endocaridum'\n",
    "coldata[coldata$Clusters=='C6','Clusters2']='P_Endocaridum_transitioning'\n",
    "coldata[coldata$Clusters=='C7','Clusters2']='Q_Endocaridum_unidentifed'\n",
    "coldata[coldata$Clusters=='C8','Clusters2']='R_Arterial_endothelium'\n",
    "coldata[coldata$Clusters=='C9','Clusters2']='S_Capillary_endothelium'\n",
    "coldata[coldata$Clusters=='C10','Clusters2']='T_Venal_endothelium'\n",
    "#\n",
    "coldata[coldata$Clusters=='C21','Clusters2']='N_Neural_Crest'\n",
    "coldata[coldata$Clusters=='C12','Clusters2']='F_Cardiac_fibroblast_progenitors'\n",
    "coldata[coldata$Clusters=='C13','Clusters2']='E_valveFibroblast'\n",
    "coldata[coldata$Clusters=='C14','Clusters2']='D_Early_OFT_SMC'\n",
    "coldata[coldata$Clusters=='C22','Clusters2']='G_valveFibroblast_late'\n",
    "coldata[coldata$Clusters=='C20','Clusters2']='H_Early_Cardiac_fibroblast'\n",
    "coldata[coldata$Clusters=='C23','Clusters2']='J_Vasculatur_development'\n",
    "coldata[coldata$Clusters=='C17','Clusters2']='L_Pericytes' \n",
    "coldata[coldata$Clusters=='C18','Clusters2']='K_vSMC'\n",
    "coldata[coldata$Clusters=='C15','Clusters2']='HA_Cardiac_Fibroblast'\n",
    "coldata[coldata$Clusters=='C16','Clusters2']='HA_Cardiac_Fibroblast'\n",
    "coldata[coldata$Clusters=='C19','Clusters2']='M_Undifferentiated_epicardium'\n",
    "\n",
    "proj$Sample1<-coldata$Sample1\n",
    "proj$Clusters1<-coldata$Clusters1\n",
    "proj$Clusters2<-coldata$Clusters2"
   ]
  },
  {
   "cell_type": "code",
   "execution_count": null,
   "metadata": {
    "scrolled": true
   },
   "outputs": [],
   "source": [
    "# # #\"F6_v2\"=\"#F37B7D\",\"F8_v2\"=\"#FCBF6E\",\"F19_v2\"=\"#90D5E4\"), name = \"Sample\", labelMeans=FALSE\n",
    "## # #\n",
    "plotList <- list()\n",
    "plotList[[1]]<-plotEmbedding(ArchRProj = proj, colorBy = \"colData\",pal=c(\"F6_v2\"=\"#4EB3D3\",\"F8_v2\"=\"#F59899\",\"F19_v2\"=\"#6CD3A7\"), name = \"Sample\", labelMeans=FALSE)\n",
    "plotList[[2]]<-plotEmbedding(ArchRProj = proj, colorBy = \"colData\", name = \"Clusters2\",pal=c(\n",
    "\"B_Atrial_Cardiomyocytes\"=\"#FFAC53\",\"C_Ventricular_Cardiomyocytes\"=\"#F15F30\",\"A_Myocardium\"=\"#FFE500\"\n",
    ",\"HA_Cardiac_Fibroblast\"=\"#3B9AB2\",\"F_Cardiac_fibroblast_progenitors\"=\"#0AD7D3\",\"K_vSMC\"=\"#A8DDB5\",\"L_Pericytes\"=\"#79FFFF\"\n",
    ",\"N_Neural_Crest\"=\"#D0CD47\",\"H_Early_Cardiac_fibroblast\"=\"#90D5E4\",\"D_Early_OFT_SMC\"=\"#AAD962\",\"M_Undifferentiated_epicardium\"=\"#208A42\"\n",
    ",\"E_valveFibroblast\"=\"#74A9FF\",\"G_valveFibroblast_late\"=\"#74A9CF\",\"J_Vasculatur_development\"=\"#74C476\",\"O_Endocaridum\"=\"#C06CAB\",\"P_Endocaridum_transitioning\"=\"#C06CFF\",\"T_Venal_endothelium\"=\"#EC6BB1\"\n",
    ",\"Q_Endocaridum_unidentifed\"=\"#89288F\",\"S_Capillary_endothelium\"=\"#E6C2DC\",\"R_Arterial_endothelium\"=\"#F37B7D\"\n",
    ") ,keepAxis=FALSE, labelMeans=TRUE)\n",
    "plotList[[3]]<-plotEmbedding(ArchRProj = proj, colorBy = \"colData\", name = \"Clusters2\",pal=c(\n",
    "\"B_Atrial_Cardiomyocytes\"=\"#FFAC53\",\"C_Ventricular_Cardiomyocytes\"=\"#F15F30\",\"A_Myocardium\"=\"#FFE500\"\n",
    ",\"HA_Cardiac_Fibroblast\"=\"#3B9AB2\",\"F_Cardiac_fibroblast_progenitors\"=\"#0AD7D3\",\"K_vSMC\"=\"#A8DDB5\",\"L_Pericytes\"=\"#79FFFF\"\n",
    ",\"N_Neural_Crest\"=\"#D0CD47\",\"H_Early_Cardiac_fibroblast\"=\"#90D5E4\",\"D_Early_OFT_SMC\"=\"#AAD962\",\"M_Undifferentiated_epicardium\"=\"#208A42\"\n",
    ",\"E_valveFibroblast\"=\"#74A9FF\",\"G_valveFibroblast_late\"=\"#74A9CF\",\"J_Vasculatur_development\"=\"#74C476\",\"O_Endocaridum\"=\"#C06CAB\",\"P_Endocaridum_transitioning\"=\"#C06CFF\",\"T_Venal_endothelium\"=\"#EC6BB1\"\n",
    ",\"Q_Endocaridum_unidentifed\"=\"#89288F\",\"S_Capillary_endothelium\"=\"#E6C2DC\",\"R_Arterial_endothelium\"=\"#F37B7D\"\n",
    ") ,keepAxis=FALSE, labelMeans=FALSE)\n",
    "plotPDF(plotList = plotList, name = \"UMAP-Samples-Clusters_LABELLING\", width = 6, height = 6, ArchRProj = proj, addDOC = FALSE)\n",
    "plotList"
   ]
  },
  {
   "cell_type": "code",
   "execution_count": null,
   "metadata": {},
   "outputs": [],
   "source": [
    "#Getting Marker Genes based on gene score for clusters\n",
    "markersGS <- getMarkerFeatures(\n",
    "    ArchRProj = proj, \n",
    "    useMatrix = \"GeneScoreMatrix\", \n",
    "    groupBy = \"Clusters1\",\n",
    "    bias = c(\"TSSEnrichment\", \"log10(nFrags)\"),\n",
    "    testMethod = \"wilcoxon\"\n",
    ")"
   ]
  },
  {
   "cell_type": "code",
   "execution_count": null,
   "metadata": {
    "scrolled": true
   },
   "outputs": [],
   "source": [
    "#Visualizing gene scores in UMAP\n",
    "proj <- addImputeWeights(ArchRProj = proj)\n",
    "\n",
    "markerGenes  <- c(\"TNNT2\",\"ACTN2\",\"MYH6\",\"MYH7\",\"DCN\",\"MYH11\",\"PDGFRA\",\"PDGFRB\",\"TCF21\",\"TAGLN\",\"COL1A1\",\"PRDM16\",\"MYH11\",\"TNNT2\",\"TTN\",\"GATA4\",\"MEF2C\",\"TBX5\",\"WT1\"\n",
    "                  ,\"TBX18\",\"PECAM1\",\"CDH5\",\"CDH11\",\"GJA5\",\"NPPA\",\"MYL6\",\"MYL7\",\"MYL2\",\"NPPB\",\"SELE\",\"DCN\",\"LUM\",\"COL1A1\",\"CA4\",\"UNC5B\",\"CD34\"\n",
    "      )\n",
    "\n",
    "\n",
    "#Plot the UMAP Embedding with Marker Genes Overlayed w/ Imputation\n",
    "p1<-plotEmbedding(ArchRProj = proj, colorBy = \"GeneScoreMatrix\",pal = paletteContinuous(set = \"blueYellow\"), name = markerGenes, imputeWeights = getImputeWeights(proj))\n",
    "plotPDF(plotList = p1, name = \"GeneScoresSupplemental\", width = 6, height = 6, ArchRProj = proj, addDOC = FALSE)\n",
    "p1"
   ]
  },
  {
   "cell_type": "code",
   "execution_count": null,
   "metadata": {
    "scrolled": true
   },
   "outputs": [],
   "source": [
    "#getting reproducible peak \n",
    "proj <- addGroupCoverages(ArchRProj = proj, force = TRUE,groupBy = \"Clusters1\")\n",
    "#Call Reproducible Peaks w/ Macs2 (~5-10 minutes)\n",
    "proj <- addReproduciblePeakSet(ArchRProj = proj,force = TRUE, groupBy = \"Clusters1\")\n",
    "#Add Peak Matrix\n",
    "proj <- addPeakMatrix(ArchRProj = proj,force = TRUE)\n",
    "\n"
   ]
  },
  {
   "cell_type": "code",
   "execution_count": null,
   "metadata": {},
   "outputs": [],
   "source": [
    "#adding the local accessibility around promoters for genes\n",
    "addGeneScoreMatrix(proj,useTSS = TRUE,matrixName='promoter_Accessibility_1000',extendUpstream = c(1000,1000),\n",
    "                   extendDownstream = c(1000, 1000))"
   ]
  },
  {
   "cell_type": "code",
   "execution_count": null,
   "metadata": {},
   "outputs": [],
   "source": [
    "#addMotifAnnotations\n",
    "proj <- addMotifAnnotations(ArchRProj = proj, motifSet = \"cisbp\", name = \"Motif\", force = TRUE)\n",
    "\n"
   ]
  },
  {
   "cell_type": "code",
   "execution_count": null,
   "metadata": {
    "scrolled": true
   },
   "outputs": [],
   "source": [
    "#Identify Motif Enrichments\n",
    "markersPeaks <- markerFeatures(ArchRProj = proj, useMatrix = \"PeakMatrix\", groupBy = \"Clusters2\")\n",
    "\n",
    "enrichMotifs <- peakAnnoEnrichment(\n",
    "    seMarker = markersPeaks,\n",
    "    ArchRProj = proj,\n",
    "    peakAnnotation = \"Motif\",\n",
    "    cutOff = \"FDR <= 0.1 & Log2FC >= 0.5\"\n",
    "#    \n",
    " )\n",
    "plotPDF(heatmapEM, name = \"Motifs-Enrich-Heatmap\", width = 8, height = 12, ArchRProj = proj, addDOC = FALSE)\n"
   ]
  },
  {
   "cell_type": "code",
   "execution_count": null,
   "metadata": {
    "scrolled": true
   },
   "outputs": [],
   "source": [
    "heatmapEM <- enrichHeatmap(enrichMotifs,pal = paletteContinuous(set = \"solarExtra\", n = 100))\n",
    "heatmapEM\n"
   ]
  },
  {
   "cell_type": "code",
   "execution_count": null,
   "metadata": {},
   "outputs": [],
   "source": [
    "options(repr.plot.width = 18, repr.plot.height = 12)\n",
    "heatmapEM"
   ]
  },
  {
   "cell_type": "code",
   "execution_count": null,
   "metadata": {},
   "outputs": [],
   "source": [
    "proj <- addBgdPeaks(proj,force = TRUE)\n",
    "#Add chromVAR Deviations (~20-25 min if using CisBP Motif Set)\n",
    "proj <- addDeviationsMatrix(ArchRProj = proj, peakAnnotation = \"Motif\",force = TRUE)\n",
    "proj <- addImputeWeights(ArchRProj = proj)"
   ]
  },
  {
   "cell_type": "code",
   "execution_count": null,
   "metadata": {},
   "outputs": [],
   "source": [
    "getFeatures(proj, select =\"NKX25|MESP1|MESP2|HEY1|HEY2|MEF2C|GATA4|TBX5|TCF21|TBX18|TBX1|WT1|WNT1|BMP1|PTCH1|SOX9|NFATC2|SRF|MEF2A|MEF2D|TEAD4|PRDM6|NFIC|ETV1|SOX11|SOX17|SRF|GATA5|TWIST2|HOXA2|ATF2|MEOX1|NR4A1|FOXP1|SNAI2\", useMatrix = \"MotifMatrix\")\n"
   ]
  },
  {
   "cell_type": "code",
   "execution_count": null,
   "metadata": {
    "scrolled": true
   },
   "outputs": [],
   "source": [
    "#plotting the tf deviations \n",
    "markerMotifs <- c('MEOX1_396','TBX5_781','SOX17_764','NKX25_550','TBX5_781','TCF21_39','SRF_641')\n",
    " \n",
    "p1<-plotEmbedding(ArchRProj = proj, colorBy = \"MotifMatrix\", name = paste0(\"z:\",markerMotifs), imputeWeights = getImputeWeights(proj))\n",
    "p1\n"
   ]
  },
  {
   "cell_type": "code",
   "execution_count": null,
   "metadata": {},
   "outputs": [],
   "source": [
    "#adding the scRNA using CCA analysis\n",
    "gene_integration_matrix<-readRDS('path to seurat rna rds object')\n",
    "umap_rna<-Embeddings(object = gene_integration_matrix, reduction = \"umap\")\n",
    "gene_integration_matrix\n",
    "\n"
   ]
  },
  {
   "cell_type": "code",
   "execution_count": null,
   "metadata": {},
   "outputs": [],
   "source": [
    "Idents(gene_integration_matrix)<-'new_manual_annotation'"
   ]
  },
  {
   "cell_type": "code",
   "execution_count": null,
   "metadata": {},
   "outputs": [],
   "source": [
    "gene_integration_matrix\n",
    "new_all_rna<-gene_integration_matrix"
   ]
  },
  {
   "cell_type": "code",
   "execution_count": null,
   "metadata": {},
   "outputs": [],
   "source": [
    "gene_integration_matrix@meta.data[gene_integration_matrix@meta.data$Sample==1,'time']=\"PCW6\"\n",
    "gene_integration_matrix@meta.data[gene_integration_matrix@meta.data$Sample==2,'time']=\"PCW6\"\n",
    "gene_integration_matrix@meta.data[gene_integration_matrix@meta.data$Sample==3,'time']=\"PCW19\"\n",
    "gene_integration_matrix@meta.data[gene_integration_matrix@meta.data$Sample==4,'time']=\"PCW8\"\n",
    "gene_integration_matrix@meta.data[gene_integration_matrix@meta.data$Sample==5,'time']=\"PCW12\""
   ]
  },
  {
   "cell_type": "code",
   "execution_count": null,
   "metadata": {},
   "outputs": [],
   "source": [
    "ventricular_rna<-c('Ventricular_myocytes')\n",
    "atrial_rna<-c('Atrial_myocytes')\n",
    "pericytes_rna<-c('Pericytes')\n",
    "vSMC_rna<-c('vSMC')\n",
    "Endocaridal_cushion_rna<-c('Endocardial_cushion_late')\n",
    "Cardiac_fib_rna<-c('Cardiac_Fibroblast')\n",
    "OFT_SMC_rna<-c('OFT_SMC_Progenitors')\n",
    "Endocardium_rna<-c('Endocardium')\n",
    "venal_rna<-c('Venal_endothelium')\n",
    "capillary_rna<-c('Capillary_endothelium')\n",
    "arterial_rna<-c('Arterial_endothelium')\n",
    "lymph_ec_rna<-c('Lymph_ec')\n",
    "Epicardium_rna<-c('Epicaridum')\n",
    "Neuronal_rna<-c('Neuronal_1')\n",
    "##\n",
    "ventricular_atac<-c('Ventricular_Cardiomyocytes','Myocardium')\n",
    "atrial_atac<-c('Atrial_Cardiomyocytes')\n",
    "pericytes_atac<-c('Pericytes')\n",
    "vSMC_atac<-c('vSMC')\n",
    "Endocaridal_cushion_atac<-c('Endocardial_cushion','Endocardial_cushion_late')\n",
    "Cardiac_fib_atac<-c('Early_Cardiac_fibroblast','Cardiac_fibroblast_progenitors','Cardiac_Fibroblast')\n",
    "OFT_SMC_atac<-c('Vasculatur_development','Early_OFT_SMC')\n",
    "Endocardium_atac<-c('Endocaridum','Endocaridum_transitioning')\n",
    "venal_atac<-c('Venal_endothelium')\n",
    "capillary_atac<-c('Capillary_endothelium')\n",
    "arterial_atac<-c('Arterial_endothelium')\n",
    "lymph_ec_atac<-c('Endocaridum_unidentifed')\n",
    "Epicardium_atac<-c('Undifferentiated_epicardium')\n",
    "Neuronal_atac<-c('Neural_Crest')\n"
   ]
  },
  {
   "cell_type": "code",
   "execution_count": null,
   "metadata": {},
   "outputs": [],
   "source": [
    "groupList <- SimpleList(\n",
    "    Ventricular_myocytes = SimpleList(\n",
    "        ATAC = proj$cellNames[proj$Clusters1 %in% ventricular_atac],\n",
    "        RNA = rownames(gene_integration_matrix@meta.data[gene_integration_matrix@meta.data$new_manual_annotation %in% ventricular_rna,])\n",
    "    ),\n",
    "    Atrial_myocytes = SimpleList(\n",
    "        ATAC = proj$cellNames[proj$Clusters1 %in% atrial_atac],\n",
    "        RNA = rownames(gene_integration_matrix@meta.data[gene_integration_matrix@meta.data$new_manual_annotation %in% atrial_rna,])\n",
    "    )  \n",
    "    ,\n",
    "    pericytes = SimpleList(\n",
    "        ATAC = proj$cellNames[proj$Clusters1 %in% pericytes_atac],\n",
    "        RNA = rownames(gene_integration_matrix@meta.data[gene_integration_matrix@meta.data$new_manual_annotation %in% pericytes_rna,])\n",
    "    )  \n",
    "    ,\n",
    "    vSMC = SimpleList(\n",
    "        ATAC = proj$cellNames[proj$Clusters1 %in% vSMC_atac],\n",
    "        RNA = rownames(gene_integration_matrix@meta.data[gene_integration_matrix@meta.data$new_manual_annotation %in% vSMC_rna,])\n",
    "    )  \n",
    "    ,\n",
    "    Endocardial_cushion = SimpleList(\n",
    "        ATAC = proj$cellNames[proj$Clusters1 %in% Endocaridal_cushion_atac],\n",
    "        RNA = rownames(gene_integration_matrix@meta.data[gene_integration_matrix@meta.data$new_manual_annotation %in% Endocaridal_cushion_rna,])\n",
    "    )  \n",
    "    ,\n",
    "    Cardiac_fib = SimpleList(\n",
    "        ATAC = proj$cellNames[proj$Clusters1 %in% Cardiac_fib_atac],\n",
    "        RNA = rownames(gene_integration_matrix@meta.data[gene_integration_matrix@meta.data$new_manual_annotation %in% Cardiac_fib_rna,])\n",
    "    )  \n",
    "    ,\n",
    "    OFT_smc = SimpleList(\n",
    "        ATAC = proj$cellNames[proj$Clusters1 %in% OFT_SMC_atac],\n",
    "        RNA = rownames(gene_integration_matrix@meta.data[gene_integration_matrix@meta.data$new_manual_annotation %in% OFT_SMC_rna,])\n",
    "    )  \n",
    "    ,\n",
    "    Endocardium_cells = SimpleList(\n",
    "        ATAC = proj$cellNames[proj$Clusters1 %in% Endocardium_atac],\n",
    "        RNA = rownames(gene_integration_matrix@meta.data[gene_integration_matrix@meta.data$new_manual_annotation %in% Endocardium_rna,])\n",
    "    ) \n",
    "    ,\n",
    "    Arterial_cells = SimpleList(\n",
    "        ATAC = proj$cellNames[proj$Clusters1 %in% arterial_atac],\n",
    "        RNA = rownames(gene_integration_matrix@meta.data[gene_integration_matrix@meta.data$new_manual_annotation %in% arterial_rna,])\n",
    "    )  \n",
    "    ,\n",
    "    Capillary_cells = SimpleList(\n",
    "        ATAC = proj$cellNames[proj$Clusters1 %in% capillary_atac],\n",
    "        RNA = rownames(gene_integration_matrix@meta.data[gene_integration_matrix@meta.data$new_manual_annotation %in% capillary_rna,])\n",
    "    )  \n",
    "    ,\n",
    "    Venal_cells = SimpleList(\n",
    "        ATAC = proj$cellNames[proj$Clusters1 %in% venal_atac],\n",
    "        RNA = rownames(gene_integration_matrix@meta.data[gene_integration_matrix@meta.data$new_manual_annotation %in% venal_rna,])\n",
    "    )  \n",
    "    ,\n",
    "    lymph_cells = SimpleList(\n",
    "        ATAC = proj$cellNames[proj$Clusters1 %in% lymph_ec_atac],\n",
    "        RNA = rownames(gene_integration_matrix@meta.data[gene_integration_matrix@meta.data$new_manual_annotation %in% lymph_ec_rna,])\n",
    "    )  \n",
    "    ,\n",
    "    Epicardium = SimpleList(\n",
    "        ATAC = proj$cellNames[proj$Clusters1 %in% c(Epicardium_atac,Neuronal_atac)],\n",
    "        RNA = rownames(gene_integration_matrix@meta.data[gene_integration_matrix@meta.data$new_manual_annotation %in% c(Epicardium_rna,Neuronal_rna),])\n",
    "    ) \n",
    "    #,\n",
    "    #Neuronal = SimpleList(\n",
    "    #    ATAC = proj$cellNames[proj$Clusters1 %in% Neuronal_atac],\n",
    "    #    RNA = rownames(gene_integration_matrix@meta.data[gene_integration_matrix@meta.data$manual_annotation %in% Neuronal_rna,])\n",
    "    #) \n",
    ")"
   ]
  },
  {
   "cell_type": "code",
   "execution_count": null,
   "metadata": {
    "scrolled": true
   },
   "outputs": [],
   "source": [
    "proj <- addGeneIntegrationMatrix(\n",
    "    ArchRProj = proj, \n",
    "    useMatrix = \"GeneScoreMatrix\",\n",
    "    matrixName = \"GeneIntegrationMatrix_new\",\n",
    "    reducedDims = \"IterativeLSI\",\n",
    "    seRNA = gene_integration_matrix,\n",
    "    addToArrow = TRUE,\n",
    "    groupATAC=\"Clusters1\",\n",
    "    groupList = groupList,\n",
    "    groupRNA = \"new_manual_annotation\",\n",
    "    nameCell = \"predictedCell_new\",\n",
    "    nameGroup = \"predictedGroup_new\",\n",
    "    nameScore = \"predictedScore_new\",\n",
    "    sampleCellsRNA=30000,\n",
    "    sampleCellsATAC = 30000,\n",
    "    #threads = 1,\n",
    "    force = TRUE\n",
    ")"
   ]
  },
  {
   "cell_type": "code",
   "execution_count": null,
   "metadata": {},
   "outputs": [],
   "source": [
    "cm<-prop.table(table(proj$Clusters2, proj$predictedGroup_new))\n",
    "\n",
    "\n",
    "\n",
    "a<-pheatmap(cm[c('C_Ventricular_Cardiomyocytes','A_Myocardium','B_Atrial_Cardiomyocytes','HA_Cardiac_Fibroblast',\n",
    "   'H_Early_Cardiac_fibroblast','F_Cardiac_fibroblast_progenitors','E_valveFibroblast','G_valveFibroblast_late',\n",
    "   'M_Undifferentiated_epicardium','D_Early_OFT_SMC','J_Vasculatur_development','K_vSMC','L_Pericytes',\n",
    "   'N_Neural_Crest','O_Endocaridum','T_Venal_endothelium','Q_Endocaridum_unidentifed','R_Arterial_endothelium',\n",
    "   'S_Capillary_endothelium'),c('Ventricular_myocytes','Atrial_myocytes','Cardiac_Fibroblast','Endocardial_cushion_late','Epicaridum',\n",
    " 'OFT_SMC_Progenitors','vSMC','Pericytes','Neuronal_1','Endocardium','Venal_endothelium','Lymph_ec','Arterial_endothelium',\n",
    " 'Capillary_endothelium')],scale='row',cluster_cols = FALSE,cluster_rows = FALSE,treeheight_row = 0, treeheight_col = 0)\n",
    "plotPDF(a, name = \"RNA-ATAC-Mapping\", width = 6, height = 6, ArchRProj = proj, addDOC = FALSE)"
   ]
  },
  {
   "cell_type": "code",
   "execution_count": null,
   "metadata": {},
   "outputs": [],
   "source": [
    "proj <- addPeak2GeneLinks(\n",
    "    ArchRProj = proj,\n",
    "    reducedDims = \"IterativeLSI\"\n",
    ")\n"
   ]
  }
 ],
 "metadata": {
  "kernelspec": {
   "display_name": "R",
   "language": "R",
   "name": "ir"
  },
  "language_info": {
   "codemirror_mode": "r",
   "file_extension": ".r",
   "mimetype": "text/x-r-source",
   "name": "R",
   "pygments_lexer": "r",
   "version": "4.0.3"
  }
 },
 "nbformat": 4,
 "nbformat_minor": 2
}
